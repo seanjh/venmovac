{
 "cells": [
  {
   "cell_type": "markdown",
   "metadata": {},
   "source": [
    "## Instructions\n",
    "### API Tokens and secrets.py\n",
    "Add a file named secrets.py to the same directory as this notebook with a list of Instagram API Tokens, as follows:\n",
    "\n",
    "        TOKENS = [\n",
    "            '123',\n",
    "            '456',\n",
    "            '789'\n",
    "        ]\n"
   ]
  },
  {
   "cell_type": "code",
   "execution_count": 3,
   "metadata": {
    "collapsed": false
   },
   "outputs": [],
   "source": [
    "import os\n",
    "import string\n",
    "from datetime import datetime, date, timedelta\n",
    "import unicodedata\n",
    "\n",
    "import pymongo\n",
    "\n",
    "from instagram.client import InstagramAPI\n",
    "from instagram.bind import InstagramAPIError\n",
    "\n",
    "from nltk.corpus import stopwords\n",
    "from nltk.metrics import edit_distance\n",
    "from nltk.corpus import wordnet as wn\n",
    "from gensim import corpora, models, similarities\n",
    "\n",
    "\n",
    "%matplotlib inline\n",
    "import matplotlib.pyplot as plt\n",
    "import matplotlib.dates as mdates\n",
    "\n",
    "from mongo_helper import (\n",
    "    CLIENT, \n",
    "    DB, \n",
    "    TRANS_COLLECTION,\n",
    "    USER_PAIRS_COLLECTION,\n",
    "    VENMO_INSTAGRAM_MATCHES\n",
    ")\n",
    "\n",
    "from instagram_helper import (\n",
    "    InstagramAPICycler, \n",
    "    get_all_paginated_data, \n",
    "    instagram_media_to_dict\n",
    ")\n",
    "from insta_query import query\n",
    "\n",
    "from secrets import TOKENS\n",
    "\n",
    "SLEEP_SECONDS = 60*60\n",
    "API_CYCLER = InstagramAPICycler(TOKENS)\n",
    "\n",
    "HEAVY_USER_THRESHOLD = 30\n",
    "\n",
    "AFTER_CUTOFF_DATE = date(2015, 3, 1)\n",
    "\n",
    "HOURS_RADIUS = 24\n",
    "\n",
    "VENMO_DATE_FORMAT_STR = '%Y-%m-%dT%H:%M:%SZ'\n",
    "\n",
    "STOPLIST = frozenset(stopwords.words('english'))\n",
    "\n",
    "GRAPHS_PATH = os.path.join(os.getcwd(), 'graphs')\n",
    "if not os.path.exists(GRAPHS_PATH):\n",
    "    os.mkdir(GRAPHS_PATH)"
   ]
  },
  {
   "cell_type": "markdown",
   "metadata": {},
   "source": [
    "## Populate MongoDB with the Venmo-Instagram user matches\n"
   ]
  },
  {
   "cell_type": "code",
   "execution_count": 4,
   "metadata": {
    "collapsed": false,
    "scrolled": true
   },
   "outputs": [
    {
     "name": "stdout",
     "output_type": "stream",
     "text": [
      "------RE-POPULATING MONGODB COLLECTION user_pairs------\n",
      "Dropped existing user_pairs collection. Completed in 0.005010 seconds.\n",
      "Completed aggregate query of trans collection. Completed in 147.505237 seconds.\n",
      "------FINDING VENMO USERS WITH >30 TARGET USERS------\n",
      "Completed aggregate query of user_pairs collection. Completed in 5.753324 seconds.\n",
      "\n",
      "Venmo user ibotta transacted with 2054 other users\n",
      "Venmo user marakimb transacted with 234 other users\n",
      "Venmo user laurengil transacted with 108 other users\n",
      "Venmo user Ben-Delhoum transacted with 108 other users\n",
      "Venmo user zacharydewitt transacted with 111 other users\n",
      "Venmo user Ben-Delhoum transacted with 108 other users\n",
      "Venmo user MoveLootInc transacted with 18 other users\n",
      "Venmo user Nguyen-Vu transacted with 102 other users\n",
      "Venmo user ShoutInc transacted with 84 other users\n",
      "Venmo user Indo-DVC transacted with 81 other users\n",
      "Venmo user Texas-Darlins transacted with 78 other users\n",
      "Venmo user Jon-Zelin transacted with 71 other users\n",
      "Venmo user Shayna-Fader transacted with 69 other users\n",
      "Venmo user JotAtEmory transacted with 69 other users\n",
      "Venmo user GRUDental-2018 transacted with 68 other users\n",
      "Venmo user David-Muoser transacted with 67 other users\n",
      "Venmo user Jennifer-Henderson-1 transacted with 64 other users\n",
      "Venmo user BlakeRuzich transacted with 2 other users\n",
      "Venmo user jmudsp transacted with 58 other users\n",
      "Venmo user fwedeorange transacted with 58 other users\n",
      "Venmo user Jhameson-Ko transacted with 58 other users\n",
      "Venmo user acelboncel transacted with 57 other users\n",
      "Venmo user Hannah-Becker-1 transacted with 2 other users\n",
      "Venmo user ErikBurbulla transacted with 56 other users\n",
      "Venmo user Charlotte-Desplan transacted with 56 other users\n",
      "Venmo user Hayden-Schenker transacted with 55 other users\n",
      "Venmo user Sergio-Becerra transacted with 53 other users\n",
      "Venmo user Jared-Robins-1 transacted with 53 other users\n",
      "Venmo user Dylan-Slinger transacted with 53 other users\n",
      "Venmo user Miki-Huber transacted with 52 other users\n",
      "Venmo user Maria-Martinez-15 transacted with 52 other users\n",
      "Venmo user Dimitrius-Chesne transacted with 52 other users\n",
      "Venmo user Jonah-Mann transacted with 51 other users\n",
      "Venmo user lexsilv transacted with 3 other users\n",
      "Venmo user annawuyang transacted with 51 other users\n",
      "Venmo user scorina transacted with 17 other users\n",
      "Venmo user alessandralochen transacted with 49 other users\n",
      "Venmo user Mayvenn transacted with 49 other users\n",
      "Venmo user Josh-Levy-9 transacted with 2 other users\n",
      "Venmo user kathy-z transacted with 48 other users\n",
      "Venmo user harvardballroom transacted with 47 other users\n",
      "Venmo user Matthew-Dunn transacted with 47 other users\n",
      "Venmo user StartupPrinceton transacted with 47 other users\n",
      "Venmo user John-Sopcisak transacted with 8 other users\n",
      "Venmo user Sam-Rosenberg-5 transacted with 46 other users\n",
      "Venmo user danieljacobs transacted with 46 other users\n",
      "Venmo user AIChE-PennChapter transacted with 46 other users\n",
      "Venmo user Shayna-Fertig transacted with 45 other users\n",
      "Venmo user Matt-Segal transacted with 45 other users\n",
      "Venmo user Margot-Byrne transacted with 1 other users\n",
      "Venmo user Jake-Levine-5 transacted with 4 other users\n",
      "Venmo user annejoan transacted with 44 other users\n",
      "Venmo user Roshan-Ray transacted with 44 other users\n",
      "Venmo user PiKapp-EtaNu transacted with 44 other users\n",
      "Venmo user Michael-Rubin-7 transacted with 4 other users\n",
      "Venmo user Kevin-Park-7 transacted with 44 other users\n",
      "Venmo user Hayden-Goldberg transacted with 44 other users\n",
      "Venmo user APO-Chi transacted with 44 other users\n",
      "Venmo user Eli-Scheinholtz transacted with 1 other users\n",
      "Venmo user lmaocatherine transacted with 1 other users\n",
      "Venmo user AsherJZlotnik transacted with 16 other users\n",
      "Venmo user Jody-Lie transacted with 12 other users\n",
      "Venmo user George-Ingber transacted with 43 other users\n",
      "Venmo user IsaacLin transacted with 43 other users\n",
      "Venmo user Anand-Lakshminarayan transacted with 43 other users\n",
      "Venmo user rudrapuri transacted with 42 other users\n",
      "Venmo user bryansilf transacted with 17 other users\n",
      "Venmo user SM-Dipali transacted with 42 other users\n",
      "Venmo user Max-Och transacted with 42 other users\n",
      "Venmo user tgbennett55 transacted with 42 other users\n",
      "Venmo user Patrick-Maiden transacted with 1 other users\n",
      "Venmo user AKPsi-Phi-Michigan transacted with 42 other users\n",
      "Venmo user Andrew-Lay transacted with 42 other users\n",
      "Venmo user Avery-McCann transacted with 42 other users\n",
      "Venmo user Isaac-Nilsson transacted with 42 other users\n",
      "Venmo user Tommy-Shott transacted with 41 other users\n",
      "Venmo user graceliu transacted with 41 other users\n",
      "Venmo user Brian-Zeoli transacted with 41 other users\n",
      "Venmo user Angle-Skelly transacted with 41 other users\n",
      "Venmo user StuartHarmon transacted with 40 other users\n",
      "Venmo user Ari-Bender transacted with 40 other users\n",
      "Venmo user jeffgrimes9 transacted with 40 other users\n",
      "Venmo user Joe_Haber transacted with 40 other users\n",
      "Venmo user Elizabeth-Kim-2 transacted with 40 other users\n",
      "Venmo user Jonah-Hessels transacted with 40 other users\n",
      "Venmo user viviguo transacted with 39 other users\n",
      "Venmo user JohnMcDermott transacted with 39 other users\n",
      "Venmo user Matt-Sant-Miller transacted with 39 other users\n",
      "Venmo user RyanBasch transacted with 39 other users\n",
      "Venmo user Victor-Vandekerckhove transacted with 39 other users\n",
      "Venmo user Aziz-Maredia transacted with 39 other users\n",
      "Venmo user kevinlie transacted with 39 other users\n",
      "Venmo user Karen-Sun transacted with 39 other users\n",
      "Venmo user ConnorMcCollough transacted with 39 other users\n",
      "Venmo user Andre-Mangkuningrat transacted with 39 other users\n",
      "Venmo user AllyLowery transacted with 39 other users\n",
      "Venmo user Sam-Selig transacted with 39 other users\n",
      "Venmo user Alexander-Wing transacted with 39 other users\n",
      "Venmo user Alex-Grover transacted with 39 other users\n",
      "Venmo user Jonah-Schiller transacted with 38 other users\n",
      "Venmo user Cannon-Karns transacted with 38 other users\n",
      "Venmo user Catalina-Bermudez transacted with 38 other users\n",
      "Venmo user Justine-Harrison transacted with 38 other users\n",
      "Venmo user Arjun-Dundoo transacted with 38 other users\n",
      "Venmo user Riley-Healey transacted with 38 other users\n",
      "Venmo user Jamie-Wilkie transacted with 38 other users\n",
      "Venmo user OscarBromberg transacted with 38 other users\n",
      "Venmo user James-Wreschner transacted with 38 other users\n",
      "Venmo user Hayden-Freedman transacted with 3 other users\n",
      "Venmo user Leah-Kornberg transacted with 5 other users\n",
      "Venmo user Drew-Kirchhofer transacted with 38 other users\n",
      "Venmo user Anhandoff transacted with 38 other users\n",
      "Venmo user David-Caruso transacted with 38 other users\n",
      "Venmo user Nick-Shee transacted with 38 other users\n",
      "Venmo user Zachary-Marcus transacted with 37 other users\n",
      "Venmo user Hoya-Stranger transacted with 5 other users\n",
      "Venmo user JonKim transacted with 37 other users\n",
      "Venmo user Sam-Yang-1 transacted with 37 other users\n",
      "Venmo user claraw transacted with 37 other users\n",
      "Venmo user Michelle-Vanessa transacted with 37 other users\n",
      "Venmo user MattBaron transacted with 37 other users\n",
      "Venmo user Mae-Wang transacted with 37 other users\n",
      "Venmo user Justin-E-Hall transacted with 37 other users\n",
      "Venmo user Fede-M transacted with 37 other users\n",
      "Venmo user John-Cook-7 transacted with 37 other users\n",
      "Venmo user Matt-Rife transacted with 37 other users\n",
      "Venmo user uwdsp transacted with 37 other users\n",
      "Venmo user Aaron-Gutierrez-1 transacted with 25 other users\n",
      "Venmo user Devina-Unjoto transacted with 36 other users\n",
      "Venmo user Teddy-Schneider transacted with 36 other users\n",
      "Venmo user Sumeet-Singh-3 transacted with 36 other users\n",
      "Venmo user Josh-Levey transacted with 36 other users\n",
      "Venmo user Andrew-Reed-2 transacted with 36 other users\n",
      "Venmo user Jeremy-Dickerson transacted with 11 other users\n",
      "Venmo user Era-Kryzhanovskaya transacted with 36 other users\n",
      "Venmo user Glen-Olsen transacted with 36 other users\n",
      "Venmo user Anshum-Sood transacted with 36 other users\n",
      "Venmo user Corey-Loman transacted with 36 other users\n",
      "Venmo user Dillon-Stuart transacted with 36 other users\n",
      "Venmo user mattbach1 transacted with 35 other users\n",
      "Venmo user eortiz22 transacted with 35 other users\n",
      "Venmo user Liam-Flynn-1 transacted with 35 other users\n",
      "Venmo user Patrick-Sheehan transacted with 35 other users\n",
      "Venmo user NaptimeZZ transacted with 35 other users\n",
      "Venmo user roberthu transacted with 35 other users\n",
      "Venmo user Michelle_Nie transacted with 35 other users\n",
      "Venmo user Markus-Fjortoft transacted with 17 other users\n",
      "Venmo user Annette-vanSwaay transacted with 35 other users\n",
      "Venmo user Alan-Delaney transacted with 35 other users\n",
      "Venmo user Ben-Gutman transacted with 35 other users\n",
      "Venmo user Boulet transacted with 35 other users\n",
      "Venmo user Eliza-Kagan-1 transacted with 35 other users\n",
      "Venmo user philliptjipto transacted with 35 other users\n",
      "Venmo user FDelgado transacted with 35 other users\n",
      "Venmo user Adam-Gross-12 transacted with 7 other users\n",
      "Venmo user Barret-Bender transacted with 34 other users\n",
      "Venmo user Jesse-Mander transacted with 34 other users\n",
      "Venmo user Zachary-Spiera transacted with 1 other users\n",
      "Venmo user jdelpeon transacted with 34 other users\n",
      "Venmo user Ryanluck3 transacted with 34 other users\n",
      "Venmo user Ryan-Edmonson transacted with 34 other users\n",
      "Venmo user Nicole-Hammons transacted with 34 other users\n",
      "Venmo user Sheila-Deng transacted with 34 other users\n",
      "Venmo user Scott-Ou transacted with 34 other users\n",
      "Venmo user Aarian-Rahman transacted with 34 other users\n",
      "Venmo user Mikael-Harseno transacted with 11 other users\n",
      "Venmo user Samuel-Gooch transacted with 34 other users\n",
      "Venmo user robbiek transacted with 34 other users\n",
      "Venmo user mmaseda transacted with 3 other users\n",
      "Venmo user emurray transacted with 34 other users\n",
      "Venmo user Christopher-Teng transacted with 34 other users\n",
      "Venmo user MattRudin transacted with 34 other users\n",
      "Venmo user Brian-Pester transacted with 34 other users\n",
      "Venmo user ConnorBrownell transacted with 34 other users\n",
      "Venmo user Aron-Wegner transacted with 34 other users\n",
      "Venmo user Tyler-Douglas-4 transacted with 12 other users\n",
      "Venmo user kristopher-kwandy transacted with 33 other users\n",
      "Venmo user Scott-Wurtzel transacted with 33 other users\n",
      "Venmo user Scott-Greenberg-1 transacted with 33 other users\n",
      "Venmo user bamsutler transacted with 33 other users\n",
      "Venmo user Jordan-Elkins transacted with 3 other users\n",
      "Venmo user Pratyusha-Gupta transacted with 33 other users\n",
      "Venmo user HaniDaou transacted with 33 other users\n",
      "Venmo user Philmon-Tanuri transacted with 22 other users\n",
      "Venmo user Nathan-Fleetwood transacted with 33 other users\n",
      "Venmo user Reika-Yoshino transacted with 33 other users\n",
      "Venmo user Katrina-Simon transacted with 33 other users\n",
      "Venmo user Stefan-Widjaja transacted with 33 other users\n",
      "Venmo user Sunny-Shah-1 transacted with 33 other users\n",
      "Venmo user Jordan-Pasetsky transacted with 33 other users\n",
      "Venmo user Jessica-Phillips-12 transacted with 33 other users\n",
      "Venmo user Jeremiah-P transacted with 4 other users\n",
      "Venmo user Michael-Bryan-7 transacted with 8 other users\n",
      "Venmo user Jake-Pozin transacted with 33 other users\n",
      "Venmo user dizbick transacted with 33 other users\n",
      "Venmo user DylanJohn-Gonzales transacted with 33 other users\n",
      "Venmo user Laura-Nugent transacted with 33 other users\n",
      "Venmo user venkyj transacted with 32 other users\n",
      "Venmo user kyle1196 transacted with 32 other users\n",
      "Venmo user howiebear transacted with 2 other users\n",
      "Venmo user Chris-Kalamchi transacted with 32 other users\n",
      "Venmo user Nikhila-Krishnan transacted with 32 other users\n",
      "Venmo user Torin-DiSalvo transacted with 1 other users\n",
      "Venmo user Spencer-Hagler transacted with 32 other users\n",
      "Venmo user Sindhu-Pagadala transacted with 32 other users\n",
      "Venmo user Troy-Kirwin transacted with 4 other users\n",
      "Venmo user Nick-Shulder transacted with 32 other users\n",
      "Venmo user jaser_rollins transacted with 32 other users\n",
      "Venmo user Phil-Park-3 transacted with 32 other users\n",
      "Venmo user seanchen transacted with 32 other users\n",
      "Venmo user Kai-Xiao transacted with 32 other users\n",
      "Venmo user Justin-Goldman-1 transacted with 32 other users\n",
      "Venmo user Andy-Gifford transacted with 32 other users\n",
      "Venmo user Mike-Profeta transacted with 32 other users\n",
      "Venmo user Austin-Curtis-5 transacted with 32 other users\n",
      "Venmo user Reed-Silverman transacted with 11 other users\n",
      "Venmo user Griffin-Amdur transacted with 14 other users\n",
      "Venmo user Genna-Mazzarella transacted with 32 other users\n",
      "Venmo user Artie-Trotter transacted with 32 other users\n",
      "Venmo user Jojochandra transacted with 32 other users\n",
      "Venmo user Colin-Roth-1 transacted with 32 other users\n",
      "Venmo user Austin-Hong-3 transacted with 1 other users\n",
      "Venmo user Matt-Galetta transacted with 32 other users\n",
      "Venmo user henbeazy transacted with 32 other users\n",
      "Venmo user Ivan-Darmawan transacted with 32 other users\n",
      "Venmo user Ari-Bleemer transacted with 32 other users\n",
      "Venmo user Johnathan-Zeng transacted with 32 other users\n",
      "Venmo user olin-seniors transacted with 31 other users\n",
      "Venmo user Ross-Corday transacted with 31 other users\n",
      "Venmo user PeterPacent transacted with 9 other users\n",
      "Venmo user Paul-Pettas transacted with 31 other users\n",
      "Venmo user Miles-Grofaorean transacted with 31 other users\n",
      "Venmo user Andrew-Dickson1 transacted with 6 other users\n",
      "Venmo user Ayo-Fagbemi transacted with 2 other users\n",
      "Venmo user GarrettGriffithQuinn transacted with 31 other users\n",
      "Venmo user Zachary-Miles-2 transacted with 31 other users\n",
      "Venmo user Jason-Gottlieb transacted with 31 other users\n",
      "Venmo user erabera transacted with 31 other users\n",
      "Venmo user andresfarfan transacted with 31 other users\n",
      "Venmo user R-Mehta transacted with 7 other users\n",
      "Venmo user Ally-Garcia transacted with 31 other users\n",
      "Venmo user Rathnam-Venkat transacted with 31 other users\n",
      "Venmo user wtfmishison transacted with 31 other users\n",
      "Venmo user Andrew-Starker transacted with 31 other users\n",
      "Venmo user RaymondRobinson transacted with 31 other users\n",
      "Venmo user Alex-Niebergall transacted with 31 other users\n",
      "Venmo user Jacob-Schreiber-1 transacted with 31 other users\n",
      "Venmo user lili transacted with 31 other users\n",
      "Venmo user Ziyad-Knio transacted with 31 other users\n",
      "Venmo user nictanjr transacted with 30 other users\n",
      "Venmo user mkim7952 transacted with 30 other users\n",
      "Venmo user giselaludiarto transacted with 30 other users\n",
      "Venmo user cindylimsays transacted with 30 other users\n",
      "Venmo user coletudor transacted with 30 other users\n",
      "Venmo user Zach-Masserant transacted with 30 other users\n",
      "Venmo user Winston-Budiman transacted with 30 other users\n",
      "Venmo user Tina-Tian-1 transacted with 30 other users\n",
      "Venmo user Sam-Bronstein transacted with 30 other users\n",
      "Venmo user SEDS-UCSD transacted with 30 other users\n",
      "Venmo user samfoggan transacted with 30 other users\n",
      "Venmo user BeauHart235 transacted with 30 other users\n",
      "Venmo user Zach-Groffsky transacted with 30 other users\n",
      "Venmo user NoahSnyder transacted with 30 other users\n",
      "Venmo user Perry-Goffner transacted with 30 other users\n",
      "Venmo user Jave-Soetoyo transacted with 30 other users\n",
      "Venmo user VincentCriscuolo transacted with 30 other users\n",
      "Venmo user Simon-Amat transacted with 30 other users\n",
      "Venmo user MattChalfant transacted with 6 other users\n",
      "Venmo user Nick-Demko transacted with 2 other users\n",
      "Venmo user Mike-Henni transacted with 30 other users\n",
      "Venmo user NickDemkiw transacted with 19 other users\n",
      "Venmo user Maxime-Cancre transacted with 30 other users\n",
      "Venmo user MaidMyDay-CE transacted with 30 other users\n",
      "Venmo user Leland-Chamlin transacted with 30 other users\n",
      "Venmo user carinawijaya transacted with 30 other users\n",
      "Venmo user Kaleb-Germinaro-1 transacted with 30 other users\n",
      "Venmo user Cheryl-Liu transacted with 30 other users\n",
      "Venmo user c_linarte transacted with 3 other users\n",
      "Venmo user Alex-Hasslinger transacted with 30 other users\n",
      "Venmo user Rohan-Mehrotra transacted with 2 other users\n",
      "Venmo user Brett-Tracy transacted with 17 other users\n",
      "Venmo user HaeJin_Park transacted with 30 other users\n",
      "Venmo user Christian-Hansen transacted with 30 other users\n",
      "Venmo user Grant-Cohen-1 transacted with 30 other users\n",
      "Venmo user Anish-Kalra transacted with 9 other users\n",
      "Venmo user Brendaveline transacted with 2 other users\n",
      "Venmo user Orianna-Torres transacted with 30 other users\n",
      "Venmo user Ben-Gargano transacted with 30 other users\n",
      "Venmo user Alice-Ma-4 transacted with 30 other users\n",
      "Venmo user Chinae-Gonzales transacted with 30 other users\n",
      "Venmo user Peter-Nesbitt transacted with 30 other users\n",
      "Venmo user Paddy-Nopany transacted with 30 other users\n",
      "Venmo user Frances-Luong transacted with 30 other users\n",
      "Venmo user Shannon-Turbidy transacted with 30 other users\n"
     ]
    }
   ],
   "source": [
    "query(TOKENS, HEAVY_USER_THRESHOLD, repopulate=True)  # Run this to repopulate the user matches collection\n",
    "# query(TOKENS, HEAVY_USER_THRESHOLD)"
   ]
  },
  {
   "cell_type": "markdown",
   "metadata": {},
   "source": [
    "## Find Venmo users paired with Instagram users in MongoDB"
   ]
  },
  {
   "cell_type": "code",
   "execution_count": 5,
   "metadata": {
    "collapsed": false
   },
   "outputs": [
    {
     "name": "stdout",
     "output_type": "stream",
     "text": [
      "Total Venmo-Instagram user matches: 408\n"
     ]
    }
   ],
   "source": [
    "user_matches = [result for result in VENMO_INSTAGRAM_MATCHES.find()]\n",
    "print 'Total Venmo-Instagram user matches: %d' % len(user_matches)"
   ]
  },
  {
   "cell_type": "markdown",
   "metadata": {},
   "source": [
    "## Load the user's Venmo transactions from MongoDB\n",
    "### Includes transactions where the user is either the \"actor\" (payer) or the \"target\" (payee)"
   ]
  },
  {
   "cell_type": "code",
   "execution_count": 6,
   "metadata": {
    "collapsed": false
   },
   "outputs": [],
   "source": [
    "def venmo_user_trans(user_id):\n",
    "    pipeline = [\n",
    "        {\"$unwind\": \"$transactions\"},\n",
    "        {\"$match\": {\"$or\": [\n",
    "            {\"actor.id\": user_id},\n",
    "            {\"transactions.target.id\": user_id}\n",
    "        ]}},\n",
    "        {\"$sort\": {\"created_time\": 1}}\n",
    "    ]\n",
    "\n",
    "    return [r for r in TRANS_COLLECTION.aggregate(pipeline)]"
   ]
  },
  {
   "cell_type": "code",
   "execution_count": 7,
   "metadata": {
    "collapsed": false
   },
   "outputs": [],
   "source": [
    "def parse_venmo_datetime(datetime_str):\n",
    "    return datetime.strptime(datetime_str, VENMO_DATE_FORMAT_STR)"
   ]
  },
  {
   "cell_type": "code",
   "execution_count": 8,
   "metadata": {
    "collapsed": false
   },
   "outputs": [],
   "source": [
    "def get_venmo_trans_datetimes(transactions):\n",
    "    return [parse_venmo_datetime( t.get('created_time') ) for t in transactions]\n",
    "\n",
    "def get_instagram_datetimes(media):\n",
    "    return [m.created_time for m in media]"
   ]
  },
  {
   "cell_type": "markdown",
   "metadata": {},
   "source": [
    "## Group Venmo and Instagram posts over time"
   ]
  },
  {
   "cell_type": "code",
   "execution_count": 9,
   "metadata": {
    "collapsed": false
   },
   "outputs": [],
   "source": [
    "def group_by_date(datetimes, min_date=None):\n",
    "    results = {}\n",
    "    for dt in datetimes:\n",
    "        if min_date is None or dt.date() >= min_date:\n",
    "            results[dt.date()] = results.setdefault(dt.date(), 0) + 1\n",
    "    return results\n",
    "\n",
    "def normalize_date_data(data_dict, all_dates):\n",
    "    normalized = {}\n",
    "    for date in all_dates:\n",
    "        normalized[date] = data_dict.setdefault(date, 0)\n",
    "    return normalized"
   ]
  },
  {
   "cell_type": "markdown",
   "metadata": {},
   "source": [
    "## Prepare the data for the plots"
   ]
  },
  {
   "cell_type": "code",
   "execution_count": 10,
   "metadata": {
    "collapsed": false
   },
   "outputs": [],
   "source": [
    "def get_instagram_api_data(instagram_user):\n",
    "    instagram_id = instagram_user.get('id')\n",
    "    media = get_all_paginated_data(API_CYCLER.api, 'user_recent_media', user_id=instagram_id, count=100)\n",
    "    print '%d Media fetched for Instagram user %s (%s)' % (len(media), instagram_user.get('username'), instagram_user.get('id'))\n",
    "    return media\n",
    "\n",
    "\n",
    "def get_venmo_api_data(venmo_user):\n",
    "    venmo_id = venmo_user.get('id')\n",
    "    venmo_trans = venmo_user_trans(venmo_id)    \n",
    "    print '%d Transactions fetched for Venmo user %s (%s)' % (len(venmo_trans), venmo_user.get('username'), venmo_user.get('id'))\n",
    "    return venmo_trans\n",
    "\n",
    "\n",
    "def get_api_data(venmo_user, instagram_user):\n",
    "    media = get_instagram_api_data(instagram_user)\n",
    "    venmo_trans = get_venmo_api_data(venmo_user)\n",
    "    return venmo_trans, media\n",
    "\n",
    "\n",
    "def normalize_for_plot(trans, media):\n",
    "    venmo_trans_datetimes = get_venmo_trans_datetimes(trans)\n",
    "    instagram_datetimes = get_instagram_datetimes(media)\n",
    "    \n",
    "    # Group media and transactions activity across individual days\n",
    "    venmo_date_data = group_by_date(venmo_trans_datetimes, AFTER_CUTOFF_DATE)\n",
    "    instagram_date_data = group_by_date(instagram_datetimes, AFTER_CUTOFF_DATE)\n",
    "    \n",
    "    full_date_set = set(instagram_date_data.keys()).union(venmo_date_data.keys())\n",
    "    venmo_date_data_norm = normalize_date_data(venmo_date_data, full_date_set)\n",
    "    instagram_date_data_norm = normalize_date_data(instagram_date_data, full_date_set)\n",
    "    \n",
    "    x = venmo_date_data_norm.keys()\n",
    "    venmo_y = [venmo_date_data_norm[date] for date in venmo_date_data_norm.keys()]\n",
    "    instagram_y = [instagram_date_data_norm[date] for date in instagram_date_data_norm.keys()]\n",
    "    \n",
    "    return x, venmo_y, instagram_y"
   ]
  },
  {
   "cell_type": "markdown",
   "metadata": {},
   "source": [
    "## Plot one user's Venmo and Instagram activity"
   ]
  },
  {
   "cell_type": "code",
   "execution_count": 11,
   "metadata": {
    "collapsed": false
   },
   "outputs": [],
   "source": [
    "width = 0.35\n",
    "days = mdates.DayLocator()\n",
    "weeks = mdates.WeekdayLocator()\n",
    "date_fmt = mdates.DateFormatter('%d %b %Y')\n",
    "\n",
    "def plot_user_data(x, venmo_y, instagram_y, venmo_user, instagram_user, fig_num):\n",
    "    figure, ax = plt.subplots(figsize=(18, 4), num=fig_num)\n",
    "    p1 = ax.bar(mdates.date2num(x), instagram_y, color='#ED913D', width=width, linewidth=0)\n",
    "    p2 = ax.bar(mdates.date2num(x), venmo_y, color='#78b653', width=width, linewidth=0, bottom=instagram_y)\n",
    "    \n",
    "    # Formatting\n",
    "    ax.xaxis.set_major_locator(weeks)\n",
    "    ax.xaxis.set_minor_locator(days)\n",
    "    ax.xaxis.set_major_formatter(date_fmt)\n",
    "    ax.legend( (p1[0], p2[0]), ('Instagram', 'Venmo') )\n",
    "    ax.set_ylabel('Activity')\n",
    "    ax.set_xlabel('Dates')\n",
    "\n",
    "    title_str = 'Venmo user %s (%s) | Instagram user %s (%s)' % (\n",
    "        venmo_user.get('username'), venmo_user.get('id'),\n",
    "        instagram_user.get('username'), instagram_user.get('id'),\n",
    "    )\n",
    "    ax.set_title(title_str)\n",
    "    filename = '%s.png' % venmo_user.get('username')\n",
    "    plt.savefig(os.path.join(GRAPHS_PATH, filename))\n",
    "    plt.show()"
   ]
  },
  {
   "cell_type": "markdown",
   "metadata": {},
   "source": [
    "# Match Venmo \"messages\" and Instagram \"captions\""
   ]
  },
  {
   "cell_type": "markdown",
   "metadata": {},
   "source": [
    "## Text Matching helper functions"
   ]
  },
  {
   "cell_type": "code",
   "execution_count": 12,
   "metadata": {
    "collapsed": true
   },
   "outputs": [],
   "source": [
    "def instagram_caption_words(instagram_media):\n",
    "    raw_captions = [getattr(post.caption, 'text') for post in instagram_media if hasattr(post.caption, 'text')]\n",
    "    return get_word_dictionary(raw_captions)\n",
    "\n",
    "\n",
    "def venmo_message_words(venmo_messages):\n",
    "    venmo_messages_raw = [tran.get('message') for tran in sample_trans]\n",
    "    return get_word_dictionary(venmo_messages_raw)\n",
    "\n",
    "\n",
    "def filter_ascii_punctuation(word):\n",
    "    return ''.join([c for c in word if c not in string.punctuation])\n",
    "\n",
    "\n",
    "def get_words(document):\n",
    "    return [\n",
    "        filter_ascii_punctuation(word) for \n",
    "        word in document.lower().replace('#', '').split() if word not in STOPLIST\n",
    "   ]\n",
    "\n",
    "def get_word_dictionary(documents):\n",
    "    return [get_words(document) for document in documents]"
   ]
  },
  {
   "cell_type": "markdown",
   "metadata": {},
   "source": [
    "## Text matching with tf–idf "
   ]
  },
  {
   "cell_type": "code",
   "execution_count": 13,
   "metadata": {
    "collapsed": false
   },
   "outputs": [],
   "source": [
    "tfidf_threshold = 0.75\n",
    "sim_match_index = 0\n",
    "sim_match_words = 1\n",
    "\n",
    "def text_matches(venmo_trans, instagram_media):\n",
    "    instagram_words = instagram_caption_words(instagram_media)\n",
    "#     venmo_words = venmo_message_words(trans)\n",
    "#     v_word_dict = corpora.Dictionary(venmo_words)\n",
    "    try:\n",
    "        i_word_dict, tfidf_model, tfidf_index = build_tfidf_model(instagram_words) \n",
    "    except ValueError as e:\n",
    "        yield None, None\n",
    "#     print i_word_dict\n",
    "\n",
    "#     doc = 'test sushi with pals'\n",
    "    for i, msg in enumerate([tran.get('message') for tran in venmo_trans]):\n",
    "#         vec_bow = i_word_dict.doc2bow(msg.lower().split())\n",
    "        vec_bow = i_word_dict.doc2bow(get_words(msg))\n",
    "        vec_tfidf = tfidf_model[vec_bow]\n",
    "        sims = tfidf_index[vec_tfidf]\n",
    "        tfidf_sims_list = [sim for sim in list(enumerate(sims)) if sim[sim_match_words] > tfidf_threshold]\n",
    "#         report_results(tfidf_sims_list, instagram_words)\n",
    "        if tfidf_sims_list:\n",
    "#             print 'FOUND MATCHES FOR VENMO MSG %s' % msg\n",
    "            yield venmo_trans[i], [instagram_media[match[sim_match_index]] for match in tfidf_sims_list]\n",
    "        else:\n",
    "            yield None, None\n",
    "\n",
    "\n",
    "def build_tfidf_model(instagram_words):\n",
    "    i_word_dict = corpora.Dictionary(instagram_words)\n",
    "    i_corpus = [i_word_dict.doc2bow(word) for word in instagram_words]\n",
    "    tfidf_model = models.TfidfModel(i_corpus)\n",
    "    corpus_tfidf = tfidf_model[i_corpus]\n",
    "    tfidf_index = similarities.MatrixSimilarity(tfidf_model[corpus_tfidf])\n",
    "    return i_word_dict, tfidf_model, tfidf_index\n",
    "\n",
    "\n",
    "def report_results(sims, media_captions):\n",
    "    for i, sim in enumerate(sims):\n",
    "        if sim[1] > 0:\n",
    "            print '%s -- %s' % (sim, media_captions[i])"
   ]
  },
  {
   "cell_type": "markdown",
   "metadata": {},
   "source": [
    "# Match Venmo and Instagram updates around a date range"
   ]
  },
  {
   "cell_type": "code",
   "execution_count": 14,
   "metadata": {
    "collapsed": true
   },
   "outputs": [],
   "source": [
    "diff_after = timedelta(hours=-HOURS_RADIUS)\n",
    "diff_before = timedelta(hours=HOURS_RADIUS)\n",
    "\n",
    "def media_near_transaction(tran, media):\n",
    "    tran_datetime = parse_venmo_datetime( tran.get('created_time') )\n",
    "    after_datetime = tran_datetime + diff_after\n",
    "    before_datetime = tran_datetime + diff_before\n",
    "    return [\n",
    "        m for m in media if \n",
    "        m.created_time > after_datetime and\n",
    "        m.created_time < before_datetime\n",
    "    ]"
   ]
  },
  {
   "cell_type": "code",
   "execution_count": 15,
   "metadata": {
    "collapsed": false
   },
   "outputs": [],
   "source": [
    "# # print media_captions_raw[0]\n",
    "# # print venmo_messages_raw[0]\n",
    "\n",
    "# def report_levenshtein_dist(i_captions, v_messages):\n",
    "#     for ic in i_captions:\n",
    "#         ld = sorted([(vm, edit_distance(vm, ic)) for vm in v_messages], key=lambda r: r[1], reverse=True)\n",
    "#         print ic\n",
    "#         for i, r in enumerate(ld[0:5]):\n",
    "#             print '\\t%d: %s' % (i+1, r)\n",
    "\n",
    "# # report_levenshtein_dist(media_captions_raw, venmo_messages_raw)\n",
    "# caption_words =  [[w for w in c.split()] for c in media_captions_raw]\n",
    "# venmo_words = [[w for w in c.split()] for c in venmo_messages_raw]\n",
    "\n",
    "# def wn_similarity(word1, word2):\n",
    "#     return [(s1, s2, wn.path_similarity(s1, s2)) for s1 in wn.synsets(word1) for s2 in wn.synsets(word2)]\n",
    "\n",
    "# # for doc in caption_words:\n",
    "# #     for word in doc:\n",
    "# #         for tran in venmo_words:\n",
    "# #             for "
   ]
  },
  {
   "cell_type": "code",
   "execution_count": 16,
   "metadata": {
    "collapsed": false
   },
   "outputs": [],
   "source": [
    "# # test = u'\\U0001f60d\\U0001f61c\\U0001f632'\n",
    "# # print unicodedata.name(u'\\U0001f632')\n",
    "\n",
    "# edit_distance(\"dinner\", \"dinners\")\n",
    "# # print wn.synsets('fish')[0]\n",
    "# # [s.hyponyms() for s in wn.synsets('fish')]\n",
    "\n",
    "# [(s1.hyponyms(), s2.hyponyms(), wn.path_similarity(s1, s2)) for s1 in wn.synsets('lunch') for s2 in wn.synsets('dinner')]\n",
    "\n",
    "# # wn.path_similarity(wn.synsets('fish'), wn.synsets('sushi'))\n",
    "\n",
    "# # [exp1 for x in xSet for y in ySet] \n",
    "\n",
    "# # is equal to\n",
    "\n",
    "# # result=[] \n",
    "# # for x in xSet:\n",
    "# #   for y in ySet: \n",
    "# #     result.append(exp1)"
   ]
  },
  {
   "cell_type": "code",
   "execution_count": 17,
   "metadata": {
    "collapsed": false
   },
   "outputs": [],
   "source": [
    "# target_username = 'fwedeorange'\n",
    "# sample = [m for m in user_matches if m.get('venmo').get('username') == target_username]\n",
    "# sample_instagram = sample[-1].get('instagram')\n",
    "# sample_venmo = sample[-1].get('venmo')\n",
    "# sample_trans, sample_media = get_api_data(sample_venmo, sample_instagram)"
   ]
  },
  {
   "cell_type": "code",
   "execution_count": 18,
   "metadata": {
    "collapsed": false
   },
   "outputs": [],
   "source": [
    "# media1, media2, media3, media4 = sample_media[0], sample_media[1], sample_media[3], sample_media[0]\n",
    "# m1 = [media1, media2]\n",
    "# m3 = [media3, media4, media1]\n",
    "\n",
    "# print set(m1).intersection(m3)\n",
    "\n",
    "# print getattr(media1, 'id')\n",
    "# # print sample_media[1] == sample_media[2]"
   ]
  },
  {
   "cell_type": "markdown",
   "metadata": {},
   "source": [
    "## Instagram updates are matched to Venmo transactions when the text matching and date range results return at least 1 common Instagram update"
   ]
  },
  {
   "cell_type": "code",
   "execution_count": 19,
   "metadata": {
    "collapsed": false
   },
   "outputs": [],
   "source": [
    "def venmo_instagram_matches(venmo_trans, instagram_media):\n",
    "    for venmo_tran, instagram_caption_matches in text_matches(venmo_trans, instagram_media):\n",
    "        if venmo_tran:\n",
    "#             print venmo_tran.get('message'), [getattr(post.caption, 'text') for post in instagram_caption_matches]\n",
    "            instagram_nearby_date = media_near_transaction(venmo_tran, instagram_media)\n",
    "            vi_match = set(instagram_nearby_date).intersection(instagram_caption_matches)\n",
    "            if vi_match:\n",
    "                yield venmo_tran, list(vi_match)\n",
    "            else:\n",
    "                continue\n",
    "#             yield venmo_tran, list(slam_dunkins) if slam_dunkins else None\n",
    "        "
   ]
  },
  {
   "cell_type": "markdown",
   "metadata": {},
   "source": [
    "## Main loop"
   ]
  },
  {
   "cell_type": "code",
   "execution_count": 20,
   "metadata": {
    "collapsed": false
   },
   "outputs": [
    {
     "name": "stdout",
     "output_type": "stream",
     "text": [
      "78 Media fetched for Instagram user ibotta (1235351878)\n",
      "3577 Transactions fetched for Venmo user ibotta (820531)"
     ]
    },
    {
     "name": "stderr",
     "output_type": "stream",
     "text": [
      "WARNING:gensim.similarities.docsim:scanning corpus to determine the number of features (consider setting `num_features` explicitly)\n"
     ]
    },
    {
     "name": "stdout",
     "output_type": "stream",
     "text": [
      "\n",
      "\n",
      "Checking for matching Venmo and Instragram updates for user ibotta/ibotta\n",
      "898 Media fetched for Instagram user alliekranick (10676783)\n",
      "34 Transactions fetched for Venmo user alliekranick (1059179)"
     ]
    },
    {
     "name": "stderr",
     "output_type": "stream",
     "text": [
      "WARNING:gensim.similarities.docsim:scanning corpus to determine the number of features (consider setting `num_features` explicitly)\n"
     ]
    },
    {
     "name": "stdout",
     "output_type": "stream",
     "text": [
      "\n",
      "\n",
      "Checking for matching Venmo and Instragram updates for user alliekranick/alliekranick\n",
      "281 Media fetched for Instagram user fwedeorange (22924935)\n",
      "275 Transactions fetched for Venmo user fwedeorange (1435640)"
     ]
    },
    {
     "name": "stderr",
     "output_type": "stream",
     "text": [
      "WARNING:gensim.similarities.docsim:scanning corpus to determine the number of features (consider setting `num_features` explicitly)\n"
     ]
    },
    {
     "name": "stdout",
     "output_type": "stream",
     "text": [
      "\n",
      "\n",
      "Checking for matching Venmo and Instragram updates for user fwedeorange/fwedeorange\n",
      "0 Media fetched for Instagram user adedinata706 (626233630)\n",
      "43 Transactions fetched for Venmo user dre706 (1551758)"
     ]
    },
    {
     "name": "stderr",
     "output_type": "stream",
     "text": [
      "WARNING:gensim.similarities.docsim:scanning corpus to determine the number of features (consider setting `num_features` explicitly)\n"
     ]
    },
    {
     "name": "stdout",
     "output_type": "stream",
     "text": [
      "\n",
      "\n",
      "Checking for matching Venmo and Instragram updates for user dre706/adedinata706\n"
     ]
    },
    {
     "ename": "UnboundLocalError",
     "evalue": "local variable 'i_word_dict' referenced before assignment",
     "output_type": "error",
     "traceback": [
      "\u001b[1;31m---------------------------------------------------------------------------\u001b[0m",
      "\u001b[1;31mUnboundLocalError\u001b[0m                         Traceback (most recent call last)",
      "\u001b[1;32m<ipython-input-20-8c53d162e0ef>\u001b[0m in \u001b[0;36m<module>\u001b[1;34m()\u001b[0m\n\u001b[0;32m      8\u001b[0m         \u001b[1;32mprint\u001b[0m\u001b[1;33m\u001b[0m\u001b[0m\n\u001b[0;32m      9\u001b[0m         \u001b[1;32mprint\u001b[0m \u001b[1;34m'Checking for matching Venmo and Instragram updates for user %s/%s'\u001b[0m \u001b[1;33m%\u001b[0m \u001b[1;33m(\u001b[0m\u001b[0mvenmo_user\u001b[0m\u001b[1;33m.\u001b[0m\u001b[0mget\u001b[0m\u001b[1;33m(\u001b[0m\u001b[1;34m'username'\u001b[0m\u001b[1;33m)\u001b[0m\u001b[1;33m,\u001b[0m \u001b[0minstagram_user\u001b[0m\u001b[1;33m.\u001b[0m\u001b[0mget\u001b[0m\u001b[1;33m(\u001b[0m\u001b[1;34m'username'\u001b[0m\u001b[1;33m)\u001b[0m\u001b[1;33m)\u001b[0m\u001b[1;33m\u001b[0m\u001b[0m\n\u001b[1;32m---> 10\u001b[1;33m         \u001b[1;32mfor\u001b[0m \u001b[0mva\u001b[0m\u001b[1;33m,\u001b[0m \u001b[0mia\u001b[0m \u001b[1;32min\u001b[0m \u001b[0mvenmo_instagram_matches\u001b[0m\u001b[1;33m(\u001b[0m\u001b[0mvenmo_trans\u001b[0m\u001b[1;33m,\u001b[0m \u001b[0minstagram_media\u001b[0m\u001b[1;33m)\u001b[0m\u001b[1;33m:\u001b[0m\u001b[1;33m\u001b[0m\u001b[0m\n\u001b[0m\u001b[0;32m     11\u001b[0m             \u001b[1;32mprint\u001b[0m \u001b[0mupdate_matches\u001b[0m\u001b[1;33m.\u001b[0m\u001b[0mappend\u001b[0m\u001b[1;33m(\u001b[0m\u001b[1;33m(\u001b[0m\u001b[0mvenmo\u001b[0m\u001b[1;33m,\u001b[0m \u001b[0minstagram\u001b[0m\u001b[1;33m)\u001b[0m\u001b[1;33m)\u001b[0m\u001b[1;33m\u001b[0m\u001b[0m\n\u001b[0;32m     12\u001b[0m         \u001b[1;32mif\u001b[0m \u001b[0mupdate_matches\u001b[0m\u001b[1;33m:\u001b[0m\u001b[1;33m\u001b[0m\u001b[0m\n",
      "\u001b[1;32m<ipython-input-19-2115cfd6aecb>\u001b[0m in \u001b[0;36mvenmo_instagram_matches\u001b[1;34m(venmo_trans, instagram_media)\u001b[0m\n\u001b[0;32m      1\u001b[0m \u001b[1;32mdef\u001b[0m \u001b[0mvenmo_instagram_matches\u001b[0m\u001b[1;33m(\u001b[0m\u001b[0mvenmo_trans\u001b[0m\u001b[1;33m,\u001b[0m \u001b[0minstagram_media\u001b[0m\u001b[1;33m)\u001b[0m\u001b[1;33m:\u001b[0m\u001b[1;33m\u001b[0m\u001b[0m\n\u001b[1;32m----> 2\u001b[1;33m     \u001b[1;32mfor\u001b[0m \u001b[0mvenmo_tran\u001b[0m\u001b[1;33m,\u001b[0m \u001b[0minstagram_caption_matches\u001b[0m \u001b[1;32min\u001b[0m \u001b[0mtext_matches\u001b[0m\u001b[1;33m(\u001b[0m\u001b[0mvenmo_trans\u001b[0m\u001b[1;33m,\u001b[0m \u001b[0minstagram_media\u001b[0m\u001b[1;33m)\u001b[0m\u001b[1;33m:\u001b[0m\u001b[1;33m\u001b[0m\u001b[0m\n\u001b[0m\u001b[0;32m      3\u001b[0m         \u001b[1;32mif\u001b[0m \u001b[0mvenmo_tran\u001b[0m\u001b[1;33m:\u001b[0m\u001b[1;33m\u001b[0m\u001b[0m\n\u001b[0;32m      4\u001b[0m \u001b[1;31m#             print venmo_tran.get('message'), [getattr(post.caption, 'text') for post in instagram_caption_matches]\u001b[0m\u001b[1;33m\u001b[0m\u001b[1;33m\u001b[0m\u001b[0m\n\u001b[0;32m      5\u001b[0m             \u001b[0minstagram_nearby_date\u001b[0m \u001b[1;33m=\u001b[0m \u001b[0mmedia_near_transaction\u001b[0m\u001b[1;33m(\u001b[0m\u001b[0mvenmo_tran\u001b[0m\u001b[1;33m,\u001b[0m \u001b[0minstagram_media\u001b[0m\u001b[1;33m)\u001b[0m\u001b[1;33m\u001b[0m\u001b[0m\n",
      "\u001b[1;32m<ipython-input-13-9a3a08d22654>\u001b[0m in \u001b[0;36mtext_matches\u001b[1;34m(venmo_trans, instagram_media)\u001b[0m\n\u001b[0;32m     16\u001b[0m     \u001b[1;32mfor\u001b[0m \u001b[0mi\u001b[0m\u001b[1;33m,\u001b[0m \u001b[0mmsg\u001b[0m \u001b[1;32min\u001b[0m \u001b[0menumerate\u001b[0m\u001b[1;33m(\u001b[0m\u001b[1;33m[\u001b[0m\u001b[0mtran\u001b[0m\u001b[1;33m.\u001b[0m\u001b[0mget\u001b[0m\u001b[1;33m(\u001b[0m\u001b[1;34m'message'\u001b[0m\u001b[1;33m)\u001b[0m \u001b[1;32mfor\u001b[0m \u001b[0mtran\u001b[0m \u001b[1;32min\u001b[0m \u001b[0mvenmo_trans\u001b[0m\u001b[1;33m]\u001b[0m\u001b[1;33m)\u001b[0m\u001b[1;33m:\u001b[0m\u001b[1;33m\u001b[0m\u001b[0m\n\u001b[0;32m     17\u001b[0m \u001b[1;31m#         vec_bow = i_word_dict.doc2bow(msg.lower().split())\u001b[0m\u001b[1;33m\u001b[0m\u001b[1;33m\u001b[0m\u001b[0m\n\u001b[1;32m---> 18\u001b[1;33m         \u001b[0mvec_bow\u001b[0m \u001b[1;33m=\u001b[0m \u001b[0mi_word_dict\u001b[0m\u001b[1;33m.\u001b[0m\u001b[0mdoc2bow\u001b[0m\u001b[1;33m(\u001b[0m\u001b[0mget_words\u001b[0m\u001b[1;33m(\u001b[0m\u001b[0mmsg\u001b[0m\u001b[1;33m)\u001b[0m\u001b[1;33m)\u001b[0m\u001b[1;33m\u001b[0m\u001b[0m\n\u001b[0m\u001b[0;32m     19\u001b[0m         \u001b[0mvec_tfidf\u001b[0m \u001b[1;33m=\u001b[0m \u001b[0mtfidf_model\u001b[0m\u001b[1;33m[\u001b[0m\u001b[0mvec_bow\u001b[0m\u001b[1;33m]\u001b[0m\u001b[1;33m\u001b[0m\u001b[0m\n\u001b[0;32m     20\u001b[0m         \u001b[0msims\u001b[0m \u001b[1;33m=\u001b[0m \u001b[0mtfidf_index\u001b[0m\u001b[1;33m[\u001b[0m\u001b[0mvec_tfidf\u001b[0m\u001b[1;33m]\u001b[0m\u001b[1;33m\u001b[0m\u001b[0m\n",
      "\u001b[1;31mUnboundLocalError\u001b[0m: local variable 'i_word_dict' referenced before assignment"
     ]
    }
   ],
   "source": [
    "update_matches = []\n",
    "errors = []\n",
    "for i, user_pair in enumerate(user_matches):\n",
    "    instagram_user = user_pair.get('instagram')\n",
    "    venmo_user = user_pair.get('venmo')\n",
    "    try:\n",
    "        venmo_trans, instagram_media = get_api_data(venmo_user, instagram_user)\n",
    "        print\n",
    "        print 'Checking for matching Venmo and Instragram updates for user %s/%s' % (venmo_user.get('username'), instagram_user.get('username'))\n",
    "        for va, ia in venmo_instagram_matches(venmo_trans, instagram_media):\n",
    "            print update_matches.append((venmo, instagram))\n",
    "        if update_matches:\n",
    "            print 'FOUND MATCHING UPDATES %s' % update_matches\n",
    "        else:\n",
    "            pass\n",
    "    except InstagramAPIError as e:\n",
    "        if e.status_code == 400:\n",
    "            error_str = \"ERROR: Instagram user %s -- %s is set to private.\" % (instagram_user.get('username'), instagram_user.get('id'))\n",
    "            errors.append(error_str)\n",
    "        continue\n",
    "#     print venmo_trans\n",
    "#     print instagram_media\n",
    "#     x, venmo_y, instagram_y = normalize_for_plot(venmo_trans, instagram_media)\n",
    "#     plot_user_data(x, venmo_y, instagram_y, venmo_user, instagram_user, i)\n",
    "#     match_pair_updates()"
   ]
  },
  {
   "cell_type": "code",
   "execution_count": null,
   "metadata": {
    "collapsed": false
   },
   "outputs": [],
   "source": []
  }
 ],
 "metadata": {
  "kernelspec": {
   "display_name": "Python 2",
   "language": "python",
   "name": "python2"
  },
  "language_info": {
   "codemirror_mode": {
    "name": "ipython",
    "version": 2
   },
   "file_extension": ".py",
   "mimetype": "text/x-python",
   "name": "python",
   "nbconvert_exporter": "python",
   "pygments_lexer": "ipython2",
   "version": "2.7.9"
  }
 },
 "nbformat": 4,
 "nbformat_minor": 0
}
