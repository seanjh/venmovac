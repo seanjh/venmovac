{
 "cells": [
  {
   "cell_type": "markdown",
   "metadata": {},
   "source": [
    "## Instructions\n",
    "### API Tokens and secrets.py\n",
    "Add a file named secrets.py to the same directory as this notebook with a list of Instagram API Tokens, as follows:\n",
    "\n",
    "        TOKENS = [\n",
    "            '123',\n",
    "            '456',\n",
    "            '789'\n",
    "        ]\n"
   ]
  },
  {
   "cell_type": "code",
   "execution_count": 1,
   "metadata": {
    "collapsed": false
   },
   "outputs": [],
   "source": [
    "import os\n",
    "from datetime import datetime, date\n",
    "\n",
    "from instagram.client import InstagramAPI\n",
    "from instagram.bind import InstagramAPIError\n",
    "import pymongo\n",
    "import matplotlib.pyplot as plt\n",
    "import matplotlib.dates as mdates\n",
    "%matplotlib inline\n",
    "\n",
    "from mongo_helper import (\n",
    "    CLIENT, \n",
    "    DB, \n",
    "    TRANS_COLLECTION,\n",
    "    USER_PAIRS_COLLECTION,\n",
    "    VENMO_INSTAGRAM_MATCHES\n",
    ")\n",
    "from instagram_helper import InstagramAPICycler, get_all_paginated_data\n",
    "from secrets import TOKENS\n",
    "from insta_query import query\n",
    "\n",
    "API_CYCLER = InstagramAPICycler(TOKENS)\n",
    "HEAVY_USER_THRESHOLD = 50\n",
    "AFTER_CUTOFF_DATE = date(2015, 3, 1)\n",
    "VENMO_DATE_FORMAT_STR = '%Y-%m-%dT%H:%M:%SZ'\n",
    "GRAPHS_PATH = os.path.join(os.getcwd(), 'graphs')\n",
    "if not os.path.exists(GRAPHS_PATH):\n",
    "    os.mkdir(GRAPHS_PATH)"
   ]
  },
  {
   "cell_type": "markdown",
   "metadata": {},
   "source": [
    "## Populate MongoDB with the Venmo-Instagram user matches"
   ]
  },
  {
   "cell_type": "code",
   "execution_count": 2,
   "metadata": {
    "collapsed": false
   },
   "outputs": [
    {
     "name": "stdout",
     "output_type": "stream",
     "text": [
      "------FINDING VENMO USERS WITH >50 TARGET USERS------\n",
      "Completed aggregate query of user_pairs collection. Completed in 24.266800 seconds.\n",
      "\n",
      "Venmo user ibotta transacted with 1655 other users\n",
      "Venmo user marakimb transacted with 234 other users\n",
      "Venmo user laurengil transacted with 108 other users\n",
      "Venmo user Ben-Delhoum transacted with 108 other users\n",
      "Venmo user Ben-Delhoum transacted with 108 other users\n",
      "Venmo user Nguyen-Vu transacted with 87 other users\n",
      "Venmo user zacharydewitt transacted with 85 other users\n",
      "Venmo user MoveLootInc transacted with 18 other users\n",
      "Venmo user ShoutInc transacted with 77 other users\n",
      "Venmo user Texas-Darlins transacted with 76 other users\n",
      "Venmo user Indo-DVC transacted with 68 other users\n",
      "Venmo user Jon-Zelin transacted with 64 other users\n",
      "Venmo user Jennifer-Henderson-1 transacted with 63 other users\n",
      "Venmo user Shayna-Fader transacted with 57 other users\n",
      "Venmo user fwedeorange transacted with 57 other users\n",
      "Venmo user ErikBurbulla transacted with 56 other users\n",
      "Venmo user Hannah-Becker-1 transacted with 2 other users\n",
      "Venmo user acelboncel transacted with 53 other users\n",
      "\n",
      "------RETURNING PREVIOUSLY QUERIED VENMO INSTAGRAM USERS------\n",
      "Completed finding existing venmo-instagram matches in 0.000041 seconds.\n",
      "Filtered Venmo users to query from 18 to 0\n"
     ]
    }
   ],
   "source": [
    "query(TOKENS, HEAVY_USER_THRESHOLD)"
   ]
  },
  {
   "cell_type": "markdown",
   "metadata": {},
   "source": [
    "## Find Venmo users paired with Instagram users in MongoDB"
   ]
  },
  {
   "cell_type": "code",
   "execution_count": 3,
   "metadata": {
    "collapsed": false
   },
   "outputs": [
    {
     "name": "stdout",
     "output_type": "stream",
     "text": [
      "Total Venmo-Instagram user matches: 420\n"
     ]
    }
   ],
   "source": [
    "user_matches = [result for result in VENMO_INSTAGRAM_MATCHES.find()]\n",
    "print 'Total Venmo-Instagram user matches: %d' % len(user_matches)"
   ]
  },
  {
   "cell_type": "markdown",
   "metadata": {},
   "source": [
    "## Load the user's Venmo transactions from MongoDB\n",
    "### Includes transactions where the user is either the \"actor\" (payer) or the \"target\" (payee)"
   ]
  },
  {
   "cell_type": "code",
   "execution_count": 4,
   "metadata": {
    "collapsed": false
   },
   "outputs": [],
   "source": [
    "def venmo_user_trans(user_id):\n",
    "    pipeline = [\n",
    "        {\"$unwind\": \"$transactions\"},\n",
    "        {\"$match\": {\"$or\": [\n",
    "            {\"actor.id\": user_id},\n",
    "            {\"transactions.target.id\": user_id}\n",
    "        ]}},\n",
    "        {\"$sort\": {\"created_time\": 1}}\n",
    "    ]\n",
    "\n",
    "    return [r for r in TRANS_COLLECTION.aggregate(pipeline)]"
   ]
  },
  {
   "cell_type": "code",
   "execution_count": 5,
   "metadata": {
    "collapsed": false
   },
   "outputs": [],
   "source": [
    "def parse_venmo_datetime(datetime_str):\n",
    "    return datetime.strptime(datetime_str, VENMO_DATE_FORMAT_STR)"
   ]
  },
  {
   "cell_type": "code",
   "execution_count": 6,
   "metadata": {
    "collapsed": false
   },
   "outputs": [],
   "source": [
    "def get_venmo_trans_datetimes(transactions):\n",
    "    return [parse_venmo_datetime( t.get('created_time') ) for t in transactions]\n",
    "\n",
    "def get_instagram_datetimes(media):\n",
    "    return [m.created_time for m in media]"
   ]
  },
  {
   "cell_type": "markdown",
   "metadata": {},
   "source": [
    "## Group Venmo and Instagram posts over time"
   ]
  },
  {
   "cell_type": "code",
   "execution_count": 7,
   "metadata": {
    "collapsed": false
   },
   "outputs": [],
   "source": [
    "def group_by_date(datetimes, min_date=None):\n",
    "    results = {}\n",
    "    for dt in datetimes:\n",
    "        if min_date is None or dt.date() >= min_date:\n",
    "            results[dt.date()] = results.setdefault(dt.date(), 0) + 1\n",
    "    return results\n",
    "\n",
    "def normalize_date_data(data_dict, all_dates):\n",
    "    normalized = {}\n",
    "    for date in all_dates:\n",
    "        normalized[date] = data_dict.setdefault(date, 0)\n",
    "    return normalized"
   ]
  },
  {
   "cell_type": "markdown",
   "metadata": {},
   "source": [
    "## Prepare the data for the plots"
   ]
  },
  {
   "cell_type": "code",
   "execution_count": 8,
   "metadata": {
    "collapsed": false
   },
   "outputs": [],
   "source": [
    "def get_api_data(venmo_user, instagram_user):\n",
    "    instagram_id = instagram_user.get('id')\n",
    "    media = get_all_paginated_data(API_CYCLER.api, 'user_recent_media', user_id=instagram_id, count=100)\n",
    "\n",
    "    print '%d Media fetched for Instagram user %s (%s)' % (len(media), instagram_user.get('username'), instagram_user.get('id'))\n",
    "    \n",
    "    venmo_id = venmo_user.get('id')\n",
    "    venmo_trans = venmo_user_trans(venmo_id)    \n",
    "    print '%d Transactions fetched for Venmo user %s (%s)' % (len(venmo_trans), venmo_user.get('username'), venmo_user.get('id'))\n",
    "    \n",
    "    return venmo_trans, media\n",
    "\n",
    "def normalize_for_plot(trans, media):\n",
    "    venmo_trans_datetimes = get_venmo_trans_datetimes(trans)\n",
    "    instagram_datetimes = get_instagram_datetimes(media)\n",
    "    \n",
    "    # Group media and transactions activity across individual days\n",
    "    venmo_date_data = group_by_date(venmo_trans_datetimes, AFTER_CUTOFF_DATE)\n",
    "    instagram_date_data = group_by_date(instagram_datetimes, AFTER_CUTOFF_DATE)\n",
    "    \n",
    "    full_date_set = set(instagram_date_data.keys()).union(venmo_date_data.keys())\n",
    "    venmo_date_data_norm = normalize_date_data(venmo_date_data, full_date_set)\n",
    "    instagram_date_data_norm = normalize_date_data(instagram_date_data, full_date_set)\n",
    "    \n",
    "    x = venmo_date_data_norm.keys()\n",
    "    venmo_y = [venmo_date_data_norm[date] for date in venmo_date_data_norm.keys()]\n",
    "    instagram_y = [instagram_date_data_norm[date] for date in instagram_date_data_norm.keys()]\n",
    "    \n",
    "    return x, venmo_y, instagram_y"
   ]
  },
  {
   "cell_type": "markdown",
   "metadata": {},
   "source": [
    "## Plot one user's Venmo and Instagram activity"
   ]
  },
  {
   "cell_type": "code",
   "execution_count": 9,
   "metadata": {
    "collapsed": false
   },
   "outputs": [],
   "source": [
    "width = 0.35\n",
    "days = mdates.DayLocator()\n",
    "weeks = mdates.WeekdayLocator()\n",
    "yearsFmt = mdates.DateFormatter('%Y')\n",
    "date_fmt = mdates.DateFormatter('%d %b %Y')\n",
    "\n",
    "def plot_user_data(x, venmo_y, instagram_y, venmo_user, instagram_user, fig_num):\n",
    "    figure, ax = plt.subplots(figsize=(18, 4), num=fig_num)\n",
    "    p1 = ax.bar(mdates.date2num(x), instagram_y, color='#ED913D', width=width, linewidth=0)\n",
    "    p2 = ax.bar(mdates.date2num(x), venmo_y, color='#78b653', width=width, linewidth=0, bottom=instagram_y)\n",
    "    \n",
    "    # Formatting\n",
    "    ax.xaxis.set_major_locator(weeks)\n",
    "    ax.xaxis.set_minor_locator(days)\n",
    "    ax.xaxis.set_major_formatter(date_fmt)\n",
    "    ax.legend( (p1[0], p2[0]), ('Instagram', 'Venmo') )\n",
    "    ax.set_ylabel('Activity')\n",
    "    ax.set_xlabel('Dates')\n",
    "\n",
    "    title_str = 'Venmo user %s (%s) | Instagram user %s (%s)' % (\n",
    "        venmo_user.get('username'), venmo_user.get('id'),\n",
    "        instagram_user.get('username'), instagram_user.get('id'),\n",
    "    )\n",
    "    ax.set_title(title_str)\n",
    "    filename = '%s.png' % venmo_user.get('username')\n",
    "    plt.savefig(os.path.join(GRAPHS_PATH, filename))\n",
    "    plt.show()"
   ]
  },
  {
   "cell_type": "markdown",
   "metadata": {},
   "source": [
    "## Main loop"
   ]
  },
  {
   "cell_type": "code",
   "execution_count": 10,
   "metadata": {
    "collapsed": false
   },
   "outputs": [
    {
     "name": "stdout",
     "output_type": "stream",
     "text": [
      "77 Media fetched for Instagram user ibotta (1235351878)\n",
      "2711 Transactions fetched for Venmo user ibotta (820531)\n"
     ]
    },
    {
     "data": {
      "image/png": "[encoded data removed]",
      "text/plain": [
       "<matplotlib.figure.Figure at 0x10cbe8910>"
      ]
     },
     "metadata": {},
     "output_type": "display_data"
    },
    {
     "name": "stdout",
     "output_type": "stream",
     "text": [
      "ERROR: Instagram user alliekranick -- 10676783 is set to private.\n",
      "277 Media fetched for Instagram user fwedeorange (22924935)\n",
      "231 Transactions fetched for Venmo user fwedeorange (1435640)\n"
     ]
    },
    {
     "data": {
      "image/png": "[encoded data removed]",
      "text/plain": [
       "<matplotlib.figure.Figure at 0x10c21ca50>"
      ]
     },
     "metadata": {},
     "output_type": "display_data"
    },
    {
     "name": "stdout",
     "output_type": "stream",
     "text": [
      "ERROR: Instagram user adedinata706 -- 626233630 is set to private.\n",
      "141 Media fetched for Instagram user pdoryp (221265527)\n",
      "5 Transactions fetched for Venmo user dorothyp (1450661)\n"
     ]
    },
    {
     "data": {
      "image/png": "[encoded data removed]",
      "text/plain": [
       "<matplotlib.figure.Figure at 0x10d2931d0>"
      ]
     },
     "metadata": {},
     "output_type": "display_data"
    },
    {
     "name": "stdout",
     "output_type": "stream",
     "text": [
      "ERROR: Instagram user shirleyngg -- 238884066 is set to private.\n",
      "12 Media fetched for Instagram user nathanwlee (210028842)\n"
     ]
    },
    {
     "ename": "KeyboardInterrupt",
     "evalue": "",
     "output_type": "error",
     "traceback": [
      "\u001b[0;31m---------------------------------------------------------------------------\u001b[0m",
      "\u001b[0;31mKeyboardInterrupt\u001b[0m                         Traceback (most recent call last)",
      "\u001b[0;32m<ipython-input-10-8b7437690e87>\u001b[0m in \u001b[0;36m<module>\u001b[0;34m()\u001b[0m\n\u001b[1;32m      4\u001b[0m \u001b[0;34m\u001b[0m\u001b[0m\n\u001b[1;32m      5\u001b[0m     \u001b[0;32mtry\u001b[0m\u001b[0;34m:\u001b[0m\u001b[0;34m\u001b[0m\u001b[0m\n\u001b[0;32m----> 6\u001b[0;31m         \u001b[0mvenmo_trans\u001b[0m\u001b[0;34m,\u001b[0m \u001b[0minstagram_media\u001b[0m \u001b[0;34m=\u001b[0m \u001b[0mget_api_data\u001b[0m\u001b[0;34m(\u001b[0m\u001b[0mvenmo_user\u001b[0m\u001b[0;34m,\u001b[0m \u001b[0minstagram_user\u001b[0m\u001b[0;34m)\u001b[0m\u001b[0;34m\u001b[0m\u001b[0m\n\u001b[0m\u001b[1;32m      7\u001b[0m     \u001b[0;32mexcept\u001b[0m \u001b[0mInstagramAPIError\u001b[0m \u001b[0;32mas\u001b[0m \u001b[0me\u001b[0m\u001b[0;34m:\u001b[0m\u001b[0;34m\u001b[0m\u001b[0m\n\u001b[1;32m      8\u001b[0m         \u001b[0;32mif\u001b[0m \u001b[0;34m(\u001b[0m\u001b[0me\u001b[0m\u001b[0;34m.\u001b[0m\u001b[0mstatus_code\u001b[0m \u001b[0;34m==\u001b[0m \u001b[0;36m400\u001b[0m\u001b[0;34m)\u001b[0m\u001b[0;34m:\u001b[0m\u001b[0;34m\u001b[0m\u001b[0m\n",
      "\u001b[0;32m<ipython-input-8-4bb0cb99e5eb>\u001b[0m in \u001b[0;36mget_api_data\u001b[0;34m(venmo_user, instagram_user)\u001b[0m\n\u001b[1;32m      6\u001b[0m \u001b[0;34m\u001b[0m\u001b[0m\n\u001b[1;32m      7\u001b[0m     \u001b[0mvenmo_id\u001b[0m \u001b[0;34m=\u001b[0m \u001b[0mvenmo_user\u001b[0m\u001b[0;34m.\u001b[0m\u001b[0mget\u001b[0m\u001b[0;34m(\u001b[0m\u001b[0;34m'id'\u001b[0m\u001b[0;34m)\u001b[0m\u001b[0;34m\u001b[0m\u001b[0m\n\u001b[0;32m----> 8\u001b[0;31m     \u001b[0mvenmo_trans\u001b[0m \u001b[0;34m=\u001b[0m \u001b[0mvenmo_user_trans\u001b[0m\u001b[0;34m(\u001b[0m\u001b[0mvenmo_id\u001b[0m\u001b[0;34m)\u001b[0m\u001b[0;34m\u001b[0m\u001b[0m\n\u001b[0m\u001b[1;32m      9\u001b[0m     \u001b[0;32mprint\u001b[0m \u001b[0;34m'%d Transactions fetched for Venmo user %s (%s)'\u001b[0m \u001b[0;34m%\u001b[0m \u001b[0;34m(\u001b[0m\u001b[0mlen\u001b[0m\u001b[0;34m(\u001b[0m\u001b[0mvenmo_trans\u001b[0m\u001b[0;34m)\u001b[0m\u001b[0;34m,\u001b[0m \u001b[0mvenmo_user\u001b[0m\u001b[0;34m.\u001b[0m\u001b[0mget\u001b[0m\u001b[0;34m(\u001b[0m\u001b[0;34m'username'\u001b[0m\u001b[0;34m)\u001b[0m\u001b[0;34m,\u001b[0m \u001b[0mvenmo_user\u001b[0m\u001b[0;34m.\u001b[0m\u001b[0mget\u001b[0m\u001b[0;34m(\u001b[0m\u001b[0;34m'id'\u001b[0m\u001b[0;34m)\u001b[0m\u001b[0;34m)\u001b[0m\u001b[0;34m\u001b[0m\u001b[0m\n\u001b[1;32m     10\u001b[0m \u001b[0;34m\u001b[0m\u001b[0m\n",
      "\u001b[0;32m<ipython-input-4-5a8cb431a467>\u001b[0m in \u001b[0;36mvenmo_user_trans\u001b[0;34m(user_id)\u001b[0m\n\u001b[1;32m      9\u001b[0m     ]\n\u001b[1;32m     10\u001b[0m \u001b[0;34m\u001b[0m\u001b[0m\n\u001b[0;32m---> 11\u001b[0;31m     \u001b[0;32mreturn\u001b[0m \u001b[0;34m[\u001b[0m\u001b[0mr\u001b[0m \u001b[0;32mfor\u001b[0m \u001b[0mr\u001b[0m \u001b[0;32min\u001b[0m \u001b[0mTRANS_COLLECTION\u001b[0m\u001b[0;34m.\u001b[0m\u001b[0maggregate\u001b[0m\u001b[0;34m(\u001b[0m\u001b[0mpipeline\u001b[0m\u001b[0;34m)\u001b[0m\u001b[0;34m]\u001b[0m\u001b[0;34m\u001b[0m\u001b[0m\n\u001b[0m",
      "\u001b[0;32m/Users/sean/.virtualenvs/privacy/lib/python2.7/site-packages/pymongo/collection.pyc\u001b[0m in \u001b[0;36maggregate\u001b[0;34m(self, pipeline, **kwargs)\u001b[0m\n\u001b[1;32m   1419\u001b[0m             \u001b[0mcmd\u001b[0m\u001b[0;34m.\u001b[0m\u001b[0mupdate\u001b[0m\u001b[0;34m(\u001b[0m\u001b[0mkwargs\u001b[0m\u001b[0;34m)\u001b[0m\u001b[0;34m\u001b[0m\u001b[0m\n\u001b[1;32m   1420\u001b[0m \u001b[0;34m\u001b[0m\u001b[0m\n\u001b[0;32m-> 1421\u001b[0;31m             \u001b[0mresult\u001b[0m \u001b[0;34m=\u001b[0m \u001b[0mself\u001b[0m\u001b[0;34m.\u001b[0m\u001b[0m_command\u001b[0m\u001b[0;34m(\u001b[0m\u001b[0msock_info\u001b[0m\u001b[0;34m,\u001b[0m \u001b[0mcmd\u001b[0m\u001b[0;34m,\u001b[0m \u001b[0mslave_ok\u001b[0m\u001b[0;34m)\u001b[0m\u001b[0;34m\u001b[0m\u001b[0m\n\u001b[0m\u001b[1;32m   1422\u001b[0m \u001b[0;34m\u001b[0m\u001b[0m\n\u001b[1;32m   1423\u001b[0m             \u001b[0;32mif\u001b[0m \u001b[0;34m\"cursor\"\u001b[0m \u001b[0;32min\u001b[0m \u001b[0mresult\u001b[0m\u001b[0;34m:\u001b[0m\u001b[0;34m\u001b[0m\u001b[0m\n",
      "\u001b[0;32m/Users/sean/.virtualenvs/privacy/lib/python2.7/site-packages/pymongo/collection.pyc\u001b[0m in \u001b[0;36m_command\u001b[0;34m(self, sock_info, command, slave_ok, read_preference, codec_options, check, allowable_errors)\u001b[0m\n\u001b[1;32m    189\u001b[0m                                  \u001b[0mcodec_options\u001b[0m \u001b[0;32mor\u001b[0m \u001b[0mself\u001b[0m\u001b[0;34m.\u001b[0m\u001b[0mcodec_options\u001b[0m\u001b[0;34m,\u001b[0m\u001b[0;34m\u001b[0m\u001b[0m\n\u001b[1;32m    190\u001b[0m                                  \u001b[0mcheck\u001b[0m\u001b[0;34m,\u001b[0m\u001b[0;34m\u001b[0m\u001b[0m\n\u001b[0;32m--> 191\u001b[0;31m                                  allowable_errors)\n\u001b[0m\u001b[1;32m    192\u001b[0m \u001b[0;34m\u001b[0m\u001b[0m\n\u001b[1;32m    193\u001b[0m     \u001b[0;32mdef\u001b[0m \u001b[0m__create\u001b[0m\u001b[0;34m(\u001b[0m\u001b[0mself\u001b[0m\u001b[0;34m,\u001b[0m \u001b[0moptions\u001b[0m\u001b[0;34m)\u001b[0m\u001b[0;34m:\u001b[0m\u001b[0;34m\u001b[0m\u001b[0m\n",
      "\u001b[0;32m/Users/sean/.virtualenvs/privacy/lib/python2.7/site-packages/pymongo/pool.pyc\u001b[0m in \u001b[0;36mcommand\u001b[0;34m(self, dbname, spec, slave_ok, read_preference, codec_options, check, allowable_errors)\u001b[0m\n\u001b[1;32m    187\u001b[0m         \u001b[0;31m# Catch socket.error, KeyboardInterrupt, etc. and close ourselves.\u001b[0m\u001b[0;34m\u001b[0m\u001b[0;34m\u001b[0m\u001b[0m\n\u001b[1;32m    188\u001b[0m         \u001b[0;32mexcept\u001b[0m \u001b[0mBaseException\u001b[0m \u001b[0;32mas\u001b[0m \u001b[0merror\u001b[0m\u001b[0;34m:\u001b[0m\u001b[0;34m\u001b[0m\u001b[0m\n\u001b[0;32m--> 189\u001b[0;31m             \u001b[0mself\u001b[0m\u001b[0;34m.\u001b[0m\u001b[0m_raise_connection_failure\u001b[0m\u001b[0;34m(\u001b[0m\u001b[0merror\u001b[0m\u001b[0;34m)\u001b[0m\u001b[0;34m\u001b[0m\u001b[0m\n\u001b[0m\u001b[1;32m    190\u001b[0m \u001b[0;34m\u001b[0m\u001b[0m\n\u001b[1;32m    191\u001b[0m     \u001b[0;32mdef\u001b[0m \u001b[0msend_message\u001b[0m\u001b[0;34m(\u001b[0m\u001b[0mself\u001b[0m\u001b[0;34m,\u001b[0m \u001b[0mmessage\u001b[0m\u001b[0;34m,\u001b[0m \u001b[0mmax_doc_size\u001b[0m\u001b[0;34m)\u001b[0m\u001b[0;34m:\u001b[0m\u001b[0;34m\u001b[0m\u001b[0m\n",
      "\u001b[0;32m/Users/sean/.virtualenvs/privacy/lib/python2.7/site-packages/pymongo/pool.pyc\u001b[0m in \u001b[0;36m_raise_connection_failure\u001b[0;34m(self, error)\u001b[0m\n\u001b[1;32m    314\u001b[0m             \u001b[0m_raise_connection_failure\u001b[0m\u001b[0;34m(\u001b[0m\u001b[0mself\u001b[0m\u001b[0;34m.\u001b[0m\u001b[0maddress\u001b[0m\u001b[0;34m,\u001b[0m \u001b[0merror\u001b[0m\u001b[0;34m)\u001b[0m\u001b[0;34m\u001b[0m\u001b[0m\n\u001b[1;32m    315\u001b[0m         \u001b[0;32melse\u001b[0m\u001b[0;34m:\u001b[0m\u001b[0;34m\u001b[0m\u001b[0m\n\u001b[0;32m--> 316\u001b[0;31m             \u001b[0;32mraise\u001b[0m \u001b[0merror\u001b[0m\u001b[0;34m\u001b[0m\u001b[0m\n\u001b[0m\u001b[1;32m    317\u001b[0m \u001b[0;34m\u001b[0m\u001b[0m\n\u001b[1;32m    318\u001b[0m     \u001b[0;32mdef\u001b[0m \u001b[0m__eq__\u001b[0m\u001b[0;34m(\u001b[0m\u001b[0mself\u001b[0m\u001b[0;34m,\u001b[0m \u001b[0mother\u001b[0m\u001b[0;34m)\u001b[0m\u001b[0;34m:\u001b[0m\u001b[0;34m\u001b[0m\u001b[0m\n",
      "\u001b[0;31mKeyboardInterrupt\u001b[0m: "
     ]
    }
   ],
   "source": [
    "for i, user_pair in enumerate(user_matches):\n",
    "    instagram_user = user_pair.get('instagram')\n",
    "    venmo_user = user_pair.get('venmo')\n",
    "    \n",
    "    try:\n",
    "        venmo_trans, instagram_media = get_api_data(venmo_user, instagram_user)\n",
    "    except InstagramAPIError as e:\n",
    "        if (e.status_code == 400):\n",
    "            print \"ERROR: Instagram user %s -- %s is set to private.\" % (instagram_user.get('username'), instagram_user.get('id'))\n",
    "        continue\n",
    "    x, venmo_y, instagram_y = normalize_for_plot(venmo_trans, instagram_media)\n",
    "    plot_user_data(x, venmo_y, instagram_y, venmo_user, instagram_user, i)\n",
    "    \n"
   ]
  },
  {
   "cell_type": "code",
   "execution_count": null,
   "metadata": {
    "collapsed": true
   },
   "outputs": [],
   "source": []
  }
 ],
 "metadata": {
  "kernelspec": {
   "display_name": "Python 2",
   "language": "python",
   "name": "python2"
  },
  "language_info": {
   "codemirror_mode": {
    "name": "ipython",
    "version": 2
   },
   "file_extension": ".py",
   "mimetype": "text/x-python",
   "name": "python",
   "nbconvert_exporter": "python",
   "pygments_lexer": "ipython2",
   "version": "2.7.6"
  }
 },
 "nbformat": 4,
 "nbformat_minor": 0
}
