{
 "cells": [
  {
   "cell_type": "markdown",
   "metadata": {},
   "source": [
    "## Instructions\n",
    "### API Tokens and secrets.py\n",
    "Add a file named secrets.py to the same directory as this notebook with a list of Instagram API Tokens, as follows:\n",
    "\n",
    "        TOKENS = [\n",
    "            '123',\n",
    "            '456',\n",
    "            '789'\n",
    "        ]\n"
   ]
  },
  {
   "cell_type": "code",
   "execution_count": null,
   "metadata": {
    "collapsed": false
   },
   "outputs": [],
   "source": [
    "import os\n",
    "import string\n",
    "from datetime import datetime, date, timedelta\n",
    "import unicodedata\n",
    "\n",
    "import pymongo\n",
    "\n",
    "from instagram.client import InstagramAPI\n",
    "from instagram.bind import InstagramAPIError\n",
    "\n",
    "from nltk.corpus import stopwords\n",
    "from nltk.metrics import edit_distance\n",
    "from nltk.corpus import wordnet as wn\n",
    "from gensim import corpora, models, similarities\n",
    "\n",
    "\n",
    "%matplotlib inline\n",
    "import matplotlib.pyplot as plt\n",
    "import matplotlib.dates as mdates\n",
    "\n",
    "from mongo_helper import (\n",
    "    CLIENT, \n",
    "    DB, \n",
    "    TRANS_COLLECTION,\n",
    "    USER_PAIRS_COLLECTION,\n",
    "    VENMO_INSTAGRAM_MATCHES\n",
    ")\n",
    "\n",
    "from instagram_helper import InstagramAPICycler, get_all_paginated_data, instagram_media_to_dict\n",
    "from insta_query import query\n",
    "\n",
    "from secrets import TOKENS\n",
    "\n",
    "API_CYCLER = InstagramAPICycler(TOKENS)\n",
    "\n",
    "HEAVY_USER_THRESHOLD = 10\n",
    "\n",
    "AFTER_CUTOFF_DATE = date(2015, 3, 1)\n",
    "\n",
    "VENMO_DATE_FORMAT_STR = '%Y-%m-%dT%H:%M:%SZ'\n",
    "\n",
    "STOPLIST = frozenset(stopwords.words('english'))\n",
    "\n",
    "GRAPHS_PATH = os.path.join(os.getcwd(), 'graphs')\n",
    "if not os.path.exists(GRAPHS_PATH):\n",
    "    os.mkdir(GRAPHS_PATH)"
   ]
  },
  {
   "cell_type": "markdown",
   "metadata": {},
   "source": [
    "## Populate MongoDB with the Venmo-Instagram user matches\n"
   ]
  },
  {
   "cell_type": "code",
   "execution_count": null,
   "metadata": {
    "collapsed": false
   },
   "outputs": [],
   "source": [
    "query(TOKENS, HEAVY_USER_THRESHOLD, populate=True)  # Run this to repopulate the user matches collection\n",
    "# query(TOKENS, HEAVY_USER_THRESHOLD)"
   ]
  },
  {
   "cell_type": "markdown",
   "metadata": {},
   "source": [
    "## Find Venmo users paired with Instagram users in MongoDB"
   ]
  },
  {
   "cell_type": "code",
   "execution_count": null,
   "metadata": {
    "collapsed": false
   },
   "outputs": [],
   "source": [
    "user_matches = [result for result in VENMO_INSTAGRAM_MATCHES.find()]\n",
    "print 'Total Venmo-Instagram user matches: %d' % len(user_matches)"
   ]
  },
  {
   "cell_type": "markdown",
   "metadata": {},
   "source": [
    "## Load the user's Venmo transactions from MongoDB\n",
    "### Includes transactions where the user is either the \"actor\" (payer) or the \"target\" (payee)"
   ]
  },
  {
   "cell_type": "code",
   "execution_count": null,
   "metadata": {
    "collapsed": false
   },
   "outputs": [],
   "source": [
    "def venmo_user_trans(user_id):\n",
    "    pipeline = [\n",
    "        {\"$unwind\": \"$transactions\"},\n",
    "        {\"$match\": {\"$or\": [\n",
    "            {\"actor.id\": user_id},\n",
    "            {\"transactions.target.id\": user_id}\n",
    "        ]}},\n",
    "        {\"$sort\": {\"created_time\": 1}}\n",
    "    ]\n",
    "\n",
    "    return [r for r in TRANS_COLLECTION.aggregate(pipeline)]"
   ]
  },
  {
   "cell_type": "code",
   "execution_count": null,
   "metadata": {
    "collapsed": false
   },
   "outputs": [],
   "source": [
    "def parse_venmo_datetime(datetime_str):\n",
    "    return datetime.strptime(datetime_str, VENMO_DATE_FORMAT_STR)"
   ]
  },
  {
   "cell_type": "code",
   "execution_count": null,
   "metadata": {
    "collapsed": false
   },
   "outputs": [],
   "source": [
    "def get_venmo_trans_datetimes(transactions):\n",
    "    return [parse_venmo_datetime( t.get('created_time') ) for t in transactions]\n",
    "\n",
    "def get_instagram_datetimes(media):\n",
    "    return [m.created_time for m in media]"
   ]
  },
  {
   "cell_type": "markdown",
   "metadata": {},
   "source": [
    "## Group Venmo and Instagram posts over time"
   ]
  },
  {
   "cell_type": "code",
   "execution_count": null,
   "metadata": {
    "collapsed": false
   },
   "outputs": [],
   "source": [
    "def group_by_date(datetimes, min_date=None):\n",
    "    results = {}\n",
    "    for dt in datetimes:\n",
    "        if min_date is None or dt.date() >= min_date:\n",
    "            results[dt.date()] = results.setdefault(dt.date(), 0) + 1\n",
    "    return results\n",
    "\n",
    "def normalize_date_data(data_dict, all_dates):\n",
    "    normalized = {}\n",
    "    for date in all_dates:\n",
    "        normalized[date] = data_dict.setdefault(date, 0)\n",
    "    return normalized"
   ]
  },
  {
   "cell_type": "markdown",
   "metadata": {},
   "source": [
    "## Prepare the data for the plots"
   ]
  },
  {
   "cell_type": "code",
   "execution_count": null,
   "metadata": {
    "collapsed": false
   },
   "outputs": [],
   "source": [
    "def get_instagram_api_data(instagram_user):\n",
    "    instagram_id = instagram_user.get('id')\n",
    "    media = get_all_paginated_data(API_CYCLER.api, 'user_recent_media', user_id=instagram_id, count=100)\n",
    "    print '%d Media fetched for Instagram user %s (%s)' % (len(media), instagram_user.get('username'), instagram_user.get('id'))\n",
    "    return media\n",
    "\n",
    "\n",
    "def get_venmo_api_data(venmo_user):\n",
    "    venmo_id = venmo_user.get('id')\n",
    "    venmo_trans = venmo_user_trans(venmo_id)    \n",
    "    print '%d Transactions fetched for Venmo user %s (%s)' % (len(venmo_trans), venmo_user.get('username'), venmo_user.get('id'))\n",
    "    return venmo_trans\n",
    "\n",
    "\n",
    "def get_api_data(venmo_user, instagram_user):\n",
    "    media = get_instagram_api_data(instagram_user)\n",
    "    venmo_trans = get_venmo_api_data(venmo_user)\n",
    "    return venmo_trans, media\n",
    "\n",
    "\n",
    "def normalize_for_plot(trans, media):\n",
    "    venmo_trans_datetimes = get_venmo_trans_datetimes(trans)\n",
    "    instagram_datetimes = get_instagram_datetimes(media)\n",
    "    \n",
    "    # Group media and transactions activity across individual days\n",
    "    venmo_date_data = group_by_date(venmo_trans_datetimes, AFTER_CUTOFF_DATE)\n",
    "    instagram_date_data = group_by_date(instagram_datetimes, AFTER_CUTOFF_DATE)\n",
    "    \n",
    "    full_date_set = set(instagram_date_data.keys()).union(venmo_date_data.keys())\n",
    "    venmo_date_data_norm = normalize_date_data(venmo_date_data, full_date_set)\n",
    "    instagram_date_data_norm = normalize_date_data(instagram_date_data, full_date_set)\n",
    "    \n",
    "    x = venmo_date_data_norm.keys()\n",
    "    venmo_y = [venmo_date_data_norm[date] for date in venmo_date_data_norm.keys()]\n",
    "    instagram_y = [instagram_date_data_norm[date] for date in instagram_date_data_norm.keys()]\n",
    "    \n",
    "    return x, venmo_y, instagram_y"
   ]
  },
  {
   "cell_type": "markdown",
   "metadata": {},
   "source": [
    "## Plot one user's Venmo and Instagram activity"
   ]
  },
  {
   "cell_type": "code",
   "execution_count": null,
   "metadata": {
    "collapsed": false
   },
   "outputs": [],
   "source": [
    "width = 0.35\n",
    "days = mdates.DayLocator()\n",
    "weeks = mdates.WeekdayLocator()\n",
    "date_fmt = mdates.DateFormatter('%d %b %Y')\n",
    "\n",
    "def plot_user_data(x, venmo_y, instagram_y, venmo_user, instagram_user, fig_num):\n",
    "    figure, ax = plt.subplots(figsize=(18, 4), num=fig_num)\n",
    "    p1 = ax.bar(mdates.date2num(x), instagram_y, color='#ED913D', width=width, linewidth=0)\n",
    "    p2 = ax.bar(mdates.date2num(x), venmo_y, color='#78b653', width=width, linewidth=0, bottom=instagram_y)\n",
    "    \n",
    "    # Formatting\n",
    "    ax.xaxis.set_major_locator(weeks)\n",
    "    ax.xaxis.set_minor_locator(days)\n",
    "    ax.xaxis.set_major_formatter(date_fmt)\n",
    "    ax.legend( (p1[0], p2[0]), ('Instagram', 'Venmo') )\n",
    "    ax.set_ylabel('Activity')\n",
    "    ax.set_xlabel('Dates')\n",
    "\n",
    "    title_str = 'Venmo user %s (%s) | Instagram user %s (%s)' % (\n",
    "        venmo_user.get('username'), venmo_user.get('id'),\n",
    "        instagram_user.get('username'), instagram_user.get('id'),\n",
    "    )\n",
    "    ax.set_title(title_str)\n",
    "    filename = '%s.png' % venmo_user.get('username')\n",
    "    plt.savefig(os.path.join(GRAPHS_PATH, filename))\n",
    "    plt.show()"
   ]
  },
  {
   "cell_type": "markdown",
   "metadata": {},
   "source": [
    "# Match Venmo \"messages\" and Instagram \"captions\""
   ]
  },
  {
   "cell_type": "markdown",
   "metadata": {},
   "source": [
    "## Text Matching helper functions"
   ]
  },
  {
   "cell_type": "code",
   "execution_count": null,
   "metadata": {
    "collapsed": true
   },
   "outputs": [],
   "source": [
    "def instagram_caption_words(instagram_media):\n",
    "    raw_captions = [getattr(post.caption, 'text') for post in instagram_media if hasattr(post.caption, 'text')]\n",
    "    return get_word_dictionary(raw_captions)\n",
    "\n",
    "\n",
    "def venmo_message_words(venmo_messages):\n",
    "    venmo_messages_raw = [tran.get('message') for tran in sample_trans]\n",
    "    return get_word_dictionary(venmo_messages_raw)\n",
    "\n",
    "\n",
    "def filter_ascii_punctuation(word):\n",
    "    return ''.join([c for c in word if c not in string.punctuation])\n",
    "\n",
    "\n",
    "def get_words(document):\n",
    "    return [\n",
    "        filter_ascii_punctuation(word) for \n",
    "        word in document.lower().replace('#', '').split() if word not in STOPLIST\n",
    "   ]\n",
    "\n",
    "def get_word_dictionary(documents):\n",
    "    return [get_words(document) for document in documents]"
   ]
  },
  {
   "cell_type": "markdown",
   "metadata": {},
   "source": [
    "## Text matching with tf–idf "
   ]
  },
  {
   "cell_type": "code",
   "execution_count": null,
   "metadata": {
    "collapsed": false
   },
   "outputs": [],
   "source": [
    "tfidf_threshold = 0.75\n",
    "sim_match_index = 0\n",
    "sim_match_words = 1\n",
    "\n",
    "def text_matches(venmo_trans, instagram_media):\n",
    "    instagram_words = instagram_caption_words(instagram_media)\n",
    "#     venmo_words = venmo_message_words(trans)\n",
    "#     v_word_dict = corpora.Dictionary(venmo_words)\n",
    "    i_word_dict, tfidf_model, tfidf_index = build_tfidf_model(instagram_words) \n",
    "#     print i_word_dict\n",
    "\n",
    "#     doc = 'test sushi with pals'\n",
    "    for i, msg in enumerate([tran.get('message') for tran in venmo_trans]):\n",
    "#         vec_bow = i_word_dict.doc2bow(msg.lower().split())\n",
    "        vec_bow = i_word_dict.doc2bow(get_words(msg))\n",
    "        vec_tfidf = tfidf_model[vec_bow]\n",
    "        sims = tfidf_index[vec_tfidf]\n",
    "        tfidf_sims_list = [sim for sim in list(enumerate(sims)) if sim[sim_match_words] > tfidf_threshold]\n",
    "#         report_results(tfidf_sims_list, instagram_words)\n",
    "        if tfidf_sims_list:\n",
    "#             print 'FOUND MATCHES FOR VENMO MSG %s' % msg\n",
    "            yield venmo_trans[i], [instagram_media[match[sim_match_index]] for match in tfidf_sims_list]\n",
    "        else:\n",
    "            yield None, None\n",
    "\n",
    "\n",
    "def build_tfidf_model(instagram_words):\n",
    "    i_word_dict = corpora.Dictionary(instagram_words)\n",
    "    i_corpus = [i_word_dict.doc2bow(word) for word in instagram_words]\n",
    "    tfidf_model = models.TfidfModel(i_corpus)\n",
    "    corpus_tfidf = tfidf_model[i_corpus]\n",
    "    tfidf_index = similarities.MatrixSimilarity(tfidf_model[corpus_tfidf])\n",
    "    return i_word_dict, tfidf_model, tfidf_index\n",
    "\n",
    "\n",
    "def report_results(sims, media_captions):\n",
    "    for i, sim in enumerate(sims):\n",
    "        if sim[1] > 0:\n",
    "            print '%s -- %s' % (sim, media_captions[i])"
   ]
  },
  {
   "cell_type": "markdown",
   "metadata": {},
   "source": [
    "# Match Venmo and Instagram updates around a date range"
   ]
  },
  {
   "cell_type": "code",
   "execution_count": null,
   "metadata": {
    "collapsed": true
   },
   "outputs": [],
   "source": [
    "diff_after = timedelta(hours=-3)\n",
    "diff_before = timedelta(hours=3)\n",
    "\n",
    "def media_near_transaction(tran, media):\n",
    "    tran_datetime = parse_venmo_datetime( tran.get('created_time') )\n",
    "    after_datetime = tran_datetime + diff_after\n",
    "    before_datetime = tran_datetime + diff_before\n",
    "    return [\n",
    "        m for m in media if \n",
    "        m.created_time > after_datetime and\n",
    "        m.created_time < before_datetime\n",
    "    ]"
   ]
  },
  {
   "cell_type": "code",
   "execution_count": null,
   "metadata": {
    "collapsed": false
   },
   "outputs": [],
   "source": [
    "# # print media_captions_raw[0]\n",
    "# # print venmo_messages_raw[0]\n",
    "\n",
    "# def report_levenshtein_dist(i_captions, v_messages):\n",
    "#     for ic in i_captions:\n",
    "#         ld = sorted([(vm, edit_distance(vm, ic)) for vm in v_messages], key=lambda r: r[1], reverse=True)\n",
    "#         print ic\n",
    "#         for i, r in enumerate(ld[0:5]):\n",
    "#             print '\\t%d: %s' % (i+1, r)\n",
    "\n",
    "# # report_levenshtein_dist(media_captions_raw, venmo_messages_raw)\n",
    "# caption_words =  [[w for w in c.split()] for c in media_captions_raw]\n",
    "# venmo_words = [[w for w in c.split()] for c in venmo_messages_raw]\n",
    "\n",
    "# def wn_similarity(word1, word2):\n",
    "#     return [(s1, s2, wn.path_similarity(s1, s2)) for s1 in wn.synsets(word1) for s2 in wn.synsets(word2)]\n",
    "\n",
    "# # for doc in caption_words:\n",
    "# #     for word in doc:\n",
    "# #         for tran in venmo_words:\n",
    "# #             for "
   ]
  },
  {
   "cell_type": "code",
   "execution_count": null,
   "metadata": {
    "collapsed": false
   },
   "outputs": [],
   "source": [
    "# # test = u'\\U0001f60d\\U0001f61c\\U0001f632'\n",
    "# # print unicodedata.name(u'\\U0001f632')\n",
    "\n",
    "# edit_distance(\"dinner\", \"dinners\")\n",
    "# # print wn.synsets('fish')[0]\n",
    "# # [s.hyponyms() for s in wn.synsets('fish')]\n",
    "\n",
    "# [(s1.hyponyms(), s2.hyponyms(), wn.path_similarity(s1, s2)) for s1 in wn.synsets('lunch') for s2 in wn.synsets('dinner')]\n",
    "\n",
    "# # wn.path_similarity(wn.synsets('fish'), wn.synsets('sushi'))\n",
    "\n",
    "# # [exp1 for x in xSet for y in ySet] \n",
    "\n",
    "# # is equal to\n",
    "\n",
    "# # result=[] \n",
    "# # for x in xSet:\n",
    "# #   for y in ySet: \n",
    "# #     result.append(exp1)"
   ]
  },
  {
   "cell_type": "code",
   "execution_count": null,
   "metadata": {
    "collapsed": false
   },
   "outputs": [],
   "source": [
    "# target_username = 'fwedeorange'\n",
    "# sample = [m for m in user_matches if m.get('venmo').get('username') == target_username]\n",
    "# sample_instagram = sample[-1].get('instagram')\n",
    "# sample_venmo = sample[-1].get('venmo')\n",
    "# sample_trans, sample_media = get_api_data(sample_venmo, sample_instagram)"
   ]
  },
  {
   "cell_type": "code",
   "execution_count": null,
   "metadata": {
    "collapsed": false
   },
   "outputs": [],
   "source": [
    "# media1, media2, media3, media4 = sample_media[0], sample_media[1], sample_media[3], sample_media[0]\n",
    "# m1 = [media1, media2]\n",
    "# m3 = [media3, media4, media1]\n",
    "\n",
    "# print set(m1).intersection(m3)\n",
    "\n",
    "# print getattr(media1, 'id')\n",
    "# # print sample_media[1] == sample_media[2]"
   ]
  },
  {
   "cell_type": "markdown",
   "metadata": {},
   "source": [
    "## Instagram updates are matched to Venmo transactions when the text matching and date range results return at least 1 common Instagram update"
   ]
  },
  {
   "cell_type": "code",
   "execution_count": null,
   "metadata": {
    "collapsed": false
   },
   "outputs": [],
   "source": [
    "def venmo_instagram_matches(venmo_trans, instagram_media):\n",
    "    for venmo_tran, instagram_caption_matches in text_matches(venmo_trans, instagram_media):\n",
    "        if venmo_tran:\n",
    "#             print venmo_tran.get('message'), [getattr(post.caption, 'text') for post in instagram_caption_matches]\n",
    "            instagram_nearby_date = media_near_transaction(venmo_tran, instagram_media)\n",
    "            vi_match = set(instagram_nearby_date).intersection(instagram_caption_matches)\n",
    "            if vi_match:\n",
    "                yield venmo_tran, list(slam_dunkins)\n",
    "            else:\n",
    "                continue\n",
    "#             yield venmo_tran, list(slam_dunkins) if slam_dunkins else None\n",
    "        "
   ]
  },
  {
   "cell_type": "markdown",
   "metadata": {},
   "source": [
    "## Main loop"
   ]
  },
  {
   "cell_type": "code",
   "execution_count": null,
   "metadata": {
    "collapsed": false
   },
   "outputs": [],
   "source": [
    "update_matches = []\n",
    "errors = []\n",
    "for i, user_pair in enumerate(user_matches):\n",
    "    instagram_user = user_pair.get('instagram')\n",
    "    venmo_user = user_pair.get('venmo')\n",
    "    try:\n",
    "        venmo_trans, instagram_media = get_api_data(venmo_user, instagram_user)\n",
    "        print 'Checking for matching Venmo and Instragram updates for user %s/%s' % (venmo_user.get('username'), instagram_user.get('username'))\n",
    "        for va, ia in venmo_instagram_matches(venmo_trans, instagram_media):\n",
    "            print update_matches.append((venmo, instagram))\n",
    "        if update_matches:\n",
    "            print update_matches\n",
    "        else:\n",
    "            pass\n",
    "#             print 'NO MATCHES'\n",
    "    except InstagramAPIError as e:\n",
    "        if (e.status_code == 400):\n",
    "            error_str = \"ERROR: Instagram user %s -- %s is set to private.\" % (instagram_user.get('username'), instagram_user.get('id'))\n",
    "            errors.append(error_str)\n",
    "#             print error_str\n",
    "        continue\n",
    "#     print venmo_trans\n",
    "#     print instagram_media\n",
    "#     x, venmo_y, instagram_y = normalize_for_plot(venmo_trans, instagram_media)\n",
    "#     plot_user_data(x, venmo_y, instagram_y, venmo_user, instagram_user, i)\n",
    "#     match_pair_updates()"
   ]
  },
  {
   "cell_type": "code",
   "execution_count": null,
   "metadata": {
    "collapsed": false
   },
   "outputs": [],
   "source": []
  }
 ],
 "metadata": {
  "kernelspec": {
   "display_name": "Python 2",
   "language": "python",
   "name": "python2"
  },
  "language_info": {
   "codemirror_mode": {
    "name": "ipython",
    "version": 2
   },
   "file_extension": ".py",
   "mimetype": "text/x-python",
   "name": "python",
   "nbconvert_exporter": "python",
   "pygments_lexer": "ipython2",
   "version": "2.7.8"
  }
 },
 "nbformat": 4,
 "nbformat_minor": 0
}
