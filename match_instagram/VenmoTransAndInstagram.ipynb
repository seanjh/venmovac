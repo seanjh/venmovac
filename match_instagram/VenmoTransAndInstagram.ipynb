{
 "metadata": {
  "name": "",
  "signature": "sha256:8aaed1195bfa0ada96188156d9aec4d27db2515835dd33704908ffe3163b56b8"
 },
 "nbformat": 3,
 "nbformat_minor": 0,
 "worksheets": [
  {
   "cells": [
    {
     "cell_type": "markdown",
     "metadata": {},
     "source": [
      "## Instructions\n",
      "### API Tokens and secrets.py\n",
      "Add a file named secrets.py to the same directory as this notebook with a list of Instagram API Tokens, as follows:\n",
      "\n",
      "        TOKENS = [\n",
      "            '123',\n",
      "            '456',\n",
      "            '789'\n",
      "        ]\n"
     ]
    },
    {
     "cell_type": "code",
     "collapsed": false,
     "input": [
      "from datetime import datetime, date\n",
      "\n",
      "from instagram.client import InstagramAPI\n",
      "from instagram.bind import InstagramAPIError\n",
      "import pymongo\n",
      "import matplotlib.pyplot as plt\n",
      "import matplotlib.dates as mdates\n",
      "%matplotlib inline\n",
      "\n",
      "from mongo_helper import (\n",
      "    CLIENT, \n",
      "    DB, \n",
      "    TRANS_COLLECTION,\n",
      "    USER_PAIRS_COLLECTION,\n",
      "    VENMO_INSTAGRAM_MATCHES\n",
      ")\n",
      "from instagram_helper import InstagramAPICycler, get_all_paginated_data\n",
      "from secrets import TOKENS\n",
      "from insta_query import query\n",
      "\n",
      "API_CYCLER = InstagramAPICycler(TOKENS)\n",
      "HEAVY_USER_THRESHOLD = 30\n",
      "AFTER_CUTOFF_DATE = date(2015, 3, 1)\n",
      "VENMO_DATE_FORMAT_STR = '%Y-%m-%dT%H:%M:%SZ'"
     ],
     "language": "python",
     "metadata": {},
     "outputs": [
      {
       "output_type": "stream",
       "stream": "stdout",
       "text": [
        "------FINDING VENMO USERS WITH >30 TARGET USERS------\n",
        "Completed aggregate query of user_pairs collection. Completed in 4.494529 seconds."
       ]
      },
      {
       "output_type": "stream",
       "stream": "stdout",
       "text": [
        "\n",
        "\n",
        "Venmo user ibotta transacted with 1373 other users"
       ]
      },
      {
       "output_type": "stream",
       "stream": "stdout",
       "text": [
        "\n",
        "Venmo user marakimb transacted with 234 other users"
       ]
      },
      {
       "output_type": "stream",
       "stream": "stdout",
       "text": [
        "\n",
        "Venmo user laurengil transacted with 108 other users"
       ]
      },
      {
       "output_type": "stream",
       "stream": "stdout",
       "text": [
        "\n",
        "Venmo user Ben-Delhoum transacted with 108 other users"
       ]
      },
      {
       "output_type": "stream",
       "stream": "stdout",
       "text": [
        "\n",
        "Venmo user Ben-Delhoum transacted with 108 other users"
       ]
      },
      {
       "output_type": "stream",
       "stream": "stdout",
       "text": [
        "\n",
        "Venmo user Nguyen-Vu transacted with 72 other users"
       ]
      },
      {
       "output_type": "stream",
       "stream": "stdout",
       "text": [
        "\n",
        "Venmo user zacharydewitt transacted with 70 other users"
       ]
      },
      {
       "output_type": "stream",
       "stream": "stdout",
       "text": [
        "\n",
        "Venmo user ShoutInc transacted with 68 other users"
       ]
      },
      {
       "output_type": "stream",
       "stream": "stdout",
       "text": [
        "\n",
        "Venmo user MoveLootInc transacted with 18 other users"
       ]
      },
      {
       "output_type": "stream",
       "stream": "stdout",
       "text": [
        "\n",
        "Venmo user Indo-DVC transacted with 60 other users"
       ]
      },
      {
       "output_type": "stream",
       "stream": "stdout",
       "text": [
        "\n",
        "Venmo user Shayna-Fader transacted with 52 other users"
       ]
      },
      {
       "output_type": "stream",
       "stream": "stdout",
       "text": [
        "\n",
        "Venmo user fwedeorange transacted with 50 other users"
       ]
      },
      {
       "output_type": "stream",
       "stream": "stdout",
       "text": [
        "\n",
        "Venmo user acelboncel transacted with 47 other users"
       ]
      },
      {
       "output_type": "stream",
       "stream": "stdout",
       "text": [
        "\n",
        "Venmo user annawuyang transacted with 45 other users"
       ]
      },
      {
       "output_type": "stream",
       "stream": "stdout",
       "text": [
        "\n",
        "Venmo user lmaocatherine transacted with 1 other users"
       ]
      },
      {
       "output_type": "stream",
       "stream": "stdout",
       "text": [
        "\n",
        "Venmo user Sergio-Becerra transacted with 44 other users"
       ]
      },
      {
       "output_type": "stream",
       "stream": "stdout",
       "text": [
        "\n",
        "Venmo user AsherJZlotnik transacted with 16 other users"
       ]
      },
      {
       "output_type": "stream",
       "stream": "stdout",
       "text": [
        "\n",
        "Venmo user Eli-Scheinholtz transacted with 1 other users"
       ]
      },
      {
       "output_type": "stream",
       "stream": "stdout",
       "text": [
        "\n",
        "Venmo user annejoan transacted with 43 other users"
       ]
      },
      {
       "output_type": "stream",
       "stream": "stdout",
       "text": [
        "\n",
        "Venmo user George-Ingber transacted with 42 other users"
       ]
      },
      {
       "output_type": "stream",
       "stream": "stdout",
       "text": [
        "\n",
        "Venmo user kathy-z transacted with 41 other users"
       ]
      },
      {
       "output_type": "stream",
       "stream": "stdout",
       "text": [
        "\n",
        "Venmo user Jon-Zelin transacted with 41 other users"
       ]
      },
      {
       "output_type": "stream",
       "stream": "stdout",
       "text": [
        "\n",
        "Venmo user Roshan-Ray transacted with 41 other users"
       ]
      },
      {
       "output_type": "stream",
       "stream": "stdout",
       "text": [
        "\n",
        "Venmo user Avery-McCann transacted with 40 other users"
       ]
      },
      {
       "output_type": "stream",
       "stream": "stdout",
       "text": [
        "\n",
        "Venmo user Patrick-Maiden transacted with 1 other users"
       ]
      },
      {
       "output_type": "stream",
       "stream": "stdout",
       "text": [
        "\n",
        "Venmo user Hannah-Becker-1 transacted with 2 other users"
       ]
      },
      {
       "output_type": "stream",
       "stream": "stdout",
       "text": [
        "\n",
        "Venmo user Sam-Rosenberg-5 transacted with 38 other users"
       ]
      },
      {
       "output_type": "stream",
       "stream": "stdout",
       "text": [
        "\n",
        "Venmo user AllyLowery transacted with 38 other users"
       ]
      },
      {
       "output_type": "stream",
       "stream": "stdout",
       "text": [
        "\n",
        "Venmo user Josh-Levy-9 transacted with 2 other users"
       ]
      },
      {
       "output_type": "stream",
       "stream": "stdout",
       "text": [
        "\n",
        "Venmo user Matt-Sant-Miller transacted with 38 other users"
       ]
      },
      {
       "output_type": "stream",
       "stream": "stdout",
       "text": [
        "\n",
        "Venmo user jeffgrimes9 transacted with 37 other users"
       ]
      },
      {
       "output_type": "stream",
       "stream": "stdout",
       "text": [
        "\n",
        "Venmo user Riley-Healey transacted with 37 other users"
       ]
      },
      {
       "output_type": "stream",
       "stream": "stdout",
       "text": [
        "\n",
        "Venmo user Jennifer-Henderson-1 transacted with 37 other users"
       ]
      },
      {
       "output_type": "stream",
       "stream": "stdout",
       "text": [
        "\n",
        "Venmo user tgbennett55 transacted with 37 other users"
       ]
      },
      {
       "output_type": "stream",
       "stream": "stdout",
       "text": [
        "\n",
        "Venmo user Jared-Robins-1 transacted with 37 other users"
       ]
      },
      {
       "output_type": "stream",
       "stream": "stdout",
       "text": [
        "\n",
        "Venmo user David-Muoser transacted with 37 other users"
       ]
      },
      {
       "output_type": "stream",
       "stream": "stdout",
       "text": [
        "\n",
        "Venmo user Andrew-Lay transacted with 37 other users"
       ]
      },
      {
       "output_type": "stream",
       "stream": "stdout",
       "text": [
        "\n",
        "Venmo user Sam-Selig transacted with 36 other users"
       ]
      },
      {
       "output_type": "stream",
       "stream": "stdout",
       "text": [
        "\n",
        "Venmo user OscarBromberg transacted with 36 other users"
       ]
      },
      {
       "output_type": "stream",
       "stream": "stdout",
       "text": [
        "\n",
        "Venmo user Hayden-Freedman transacted with 3 other users"
       ]
      },
      {
       "output_type": "stream",
       "stream": "stdout",
       "text": [
        "\n",
        "Venmo user scorina transacted with 17 other users"
       ]
      },
      {
       "output_type": "stream",
       "stream": "stdout",
       "text": [
        "\n",
        "Venmo user Sumeet-Singh-3 transacted with 35 other users"
       ]
      },
      {
       "output_type": "stream",
       "stream": "stdout",
       "text": [
        "\n",
        "Venmo user NaptimeZZ transacted with 35 other users"
       ]
      },
      {
       "output_type": "stream",
       "stream": "stdout",
       "text": [
        "\n",
        "Venmo user Leah-Kornberg transacted with 5 other users"
       ]
      },
      {
       "output_type": "stream",
       "stream": "stdout",
       "text": [
        "\n",
        "Venmo user Jhameson-Ko transacted with 35 other users"
       ]
      },
      {
       "output_type": "stream",
       "stream": "stdout",
       "text": [
        "\n",
        "Venmo user Glen-Olsen transacted with 35 other users"
       ]
      },
      {
       "output_type": "stream",
       "stream": "stdout",
       "text": [
        "\n",
        "Venmo user alessandralochen transacted with 34 other users"
       ]
      },
      {
       "output_type": "stream",
       "stream": "stdout",
       "text": [
        "\n",
        "Venmo user Fede-M transacted with 34 other users"
       ]
      },
      {
       "output_type": "stream",
       "stream": "stdout",
       "text": [
        "\n",
        "Venmo user Devina-Unjoto transacted with 34 other users"
       ]
      },
      {
       "output_type": "stream",
       "stream": "stdout",
       "text": [
        "\n",
        "Venmo user James-Wreschner transacted with 34 other users"
       ]
      },
      {
       "output_type": "stream",
       "stream": "stdout",
       "text": [
        "\n",
        "Venmo user danieljacobs transacted with 33 other users"
       ]
      },
      {
       "output_type": "stream",
       "stream": "stdout",
       "text": [
        "\n",
        "Venmo user mattbach1 transacted with 33 other users"
       ]
      },
      {
       "output_type": "stream",
       "stream": "stdout",
       "text": [
        "\n",
        "Venmo user David-Caruso transacted with 33 other users"
       ]
      },
      {
       "output_type": "stream",
       "stream": "stdout",
       "text": [
        "\n",
        "Venmo user Jeremy-Dickerson transacted with 11 other users"
       ]
      },
      {
       "output_type": "stream",
       "stream": "stdout",
       "text": [
        "\n",
        "Venmo user Drew-Kirchhofer transacted with 33 other users"
       ]
      },
      {
       "output_type": "stream",
       "stream": "stdout",
       "text": [
        "\n",
        "Venmo user ConnorMcCollough transacted with 33 other users"
       ]
      },
      {
       "output_type": "stream",
       "stream": "stdout",
       "text": [
        "\n",
        "Venmo user Victor-Vandekerckhove transacted with 33 other users"
       ]
      },
      {
       "output_type": "stream",
       "stream": "stdout",
       "text": [
        "\n",
        "Venmo user Laura-Nugent transacted with 32 other users"
       ]
      },
      {
       "output_type": "stream",
       "stream": "stdout",
       "text": [
        "\n",
        "Venmo user Joe_Haber transacted with 32 other users"
       ]
      },
      {
       "output_type": "stream",
       "stream": "stdout",
       "text": [
        "\n",
        "Venmo user Artie-Trotter transacted with 32 other users"
       ]
      },
      {
       "output_type": "stream",
       "stream": "stdout",
       "text": [
        "\n",
        "Venmo user Anshum-Sood transacted with 32 other users"
       ]
      },
      {
       "output_type": "stream",
       "stream": "stdout",
       "text": [
        "\n",
        "Venmo user Angle-Skelly transacted with 32 other users"
       ]
      },
      {
       "output_type": "stream",
       "stream": "stdout",
       "text": [
        "\n",
        "Venmo user Mae-Wang transacted with 31 other users"
       ]
      },
      {
       "output_type": "stream",
       "stream": "stdout",
       "text": [
        "\n",
        "Venmo user Liam-Flynn-1 transacted with 31 other users"
       ]
      },
      {
       "output_type": "stream",
       "stream": "stdout",
       "text": [
        "\n",
        "Venmo user Justine-Harrison transacted with 31 other users"
       ]
      },
      {
       "output_type": "stream",
       "stream": "stdout",
       "text": [
        "\n",
        "Venmo user Jonah-Mann transacted with 31 other users"
       ]
      },
      {
       "output_type": "stream",
       "stream": "stdout",
       "text": [
        "\n",
        "Venmo user Tommy-Shott transacted with 31 other users"
       ]
      },
      {
       "output_type": "stream",
       "stream": "stdout",
       "text": [
        "\n",
        "Venmo user ErikBurbulla transacted with 31 other users"
       ]
      },
      {
       "output_type": "stream",
       "stream": "stdout",
       "text": [
        "\n",
        "Venmo user Ryan-Edmonson transacted with 30 other users"
       ]
      },
      {
       "output_type": "stream",
       "stream": "stdout",
       "text": [
        "\n",
        "Venmo user Max-Och transacted with 30 other users"
       ]
      },
      {
       "output_type": "stream",
       "stream": "stdout",
       "text": [
        "\n",
        "Venmo user NickDemkiw transacted with 30 other users"
       ]
      },
      {
       "output_type": "stream",
       "stream": "stdout",
       "text": [
        "\n",
        "Venmo user Mike-Profeta transacted with 30 other users"
       ]
      },
      {
       "output_type": "stream",
       "stream": "stdout",
       "text": [
        "\n",
        "Venmo user Matt-Segal transacted with 30 other users"
       ]
      },
      {
       "output_type": "stream",
       "stream": "stdout",
       "text": [
        "\n",
        "Venmo user ConnorBrownell transacted with 30 other users"
       ]
      },
      {
       "output_type": "stream",
       "stream": "stdout",
       "text": [
        "\n",
        "Venmo user Ivan-Darmawan transacted with 30 other users"
       ]
      },
      {
       "output_type": "stream",
       "stream": "stdout",
       "text": [
        "\n",
        "Venmo user Aron-Wegner transacted with 30 other users"
       ]
      },
      {
       "output_type": "stream",
       "stream": "stdout",
       "text": [
        "\n",
        "Venmo user Stefan-Widjaja transacted with 30 other users"
       ]
      },
      {
       "output_type": "stream",
       "stream": "stdout",
       "text": [
        "\n",
        "\n",
        "------RETURNING PREVIOUSLY QUERIED VENMO INSTAGRAM USERS------\n",
        "Completed finding existing venmo-instagram matches in 0.000042 seconds.\n",
        "Filtered Venmo users to query from 77 to 0\n"
       ]
      }
     ],
     "prompt_number": 1
    },
    {
     "cell_type": "markdown",
     "metadata": {},
     "source": [
      "## Populate MongoDB with the Venmo-Instagram user matches"
     ]
    },
    {
     "cell_type": "code",
     "collapsed": false,
     "input": [
      "query(TOKENS, HEAVY_USER_THRESHOLD)"
     ],
     "language": "python",
     "metadata": {},
     "outputs": []
    },
    {
     "cell_type": "markdown",
     "metadata": {},
     "source": [
      "## Find Venmo users paired with Instagram users in MongoDB"
     ]
    },
    {
     "cell_type": "code",
     "collapsed": false,
     "input": [
      "user_matches = [result for result in VENMO_INSTAGRAM_MATCHES.find()]\n",
      "print 'Total Venmo-Instagram user matches: %d' % len(user_matches)"
     ],
     "language": "python",
     "metadata": {},
     "outputs": [
      {
       "output_type": "stream",
       "stream": "stdout",
       "text": [
        "Total Venmo-Instagram user matches: 408\n"
       ]
      }
     ],
     "prompt_number": 2
    },
    {
     "cell_type": "markdown",
     "metadata": {},
     "source": [
      "## Load the user's Venmo transactions from MongoDB\n",
      "### Includes transactions where the user is either the \"actor\" (payer) or the \"target\" (payee)"
     ]
    },
    {
     "cell_type": "code",
     "collapsed": false,
     "input": [
      "def venmo_user_trans(user_id):\n",
      "    pipeline = [\n",
      "        {\"$unwind\": \"$transactions\"},\n",
      "        {\"$match\": {\"$or\": [\n",
      "            {\"actor.id\": user_id},\n",
      "            {\"transactions.target.id\": user_id}\n",
      "        ]}},\n",
      "        {\"$sort\": {\"created_time\": 1}}\n",
      "    ]\n",
      "\n",
      "    return [r for r in TRANS_COLLECTION.aggregate(pipeline)]"
     ],
     "language": "python",
     "metadata": {},
     "outputs": [],
     "prompt_number": 3
    },
    {
     "cell_type": "code",
     "collapsed": false,
     "input": [
      "def parse_venmo_datetime(datetime_str):\n",
      "    return datetime.strptime(datetime_str, VENMO_DATE_FORMAT_STR)"
     ],
     "language": "python",
     "metadata": {},
     "outputs": [],
     "prompt_number": 4
    },
    {
     "cell_type": "code",
     "collapsed": false,
     "input": [
      "def get_venmo_trans_datetimes(transactions):\n",
      "    return [parse_venmo_datetime( t.get('created_time') ) for t in transactions]\n",
      "\n",
      "def get_instagram_datetimes(media):\n",
      "    return [m.created_time for m in media]"
     ],
     "language": "python",
     "metadata": {},
     "outputs": [],
     "prompt_number": 5
    },
    {
     "cell_type": "markdown",
     "metadata": {},
     "source": [
      "## Group Venmo and Instagram posts over time"
     ]
    },
    {
     "cell_type": "code",
     "collapsed": false,
     "input": [
      "def group_by_date(datetimes, min_date=None):\n",
      "    results = {}\n",
      "    for dt in datetimes:\n",
      "        if min_date is None or dt.date() >= min_date:\n",
      "            results[dt.date()] = results.setdefault(dt.date(), 0) + 1\n",
      "    return results\n",
      "\n",
      "def normalize_date_data(data_dict, all_dates):\n",
      "    normalized = {}\n",
      "    for date in all_dates:\n",
      "        normalized[date] = data_dict.setdefault(date, 0)\n",
      "    return normalized"
     ],
     "language": "python",
     "metadata": {},
     "outputs": [],
     "prompt_number": 6
    },
    {
     "cell_type": "markdown",
     "metadata": {},
     "source": [
      "## Prepare the data for the plots"
     ]
    },
    {
     "cell_type": "code",
     "collapsed": false,
     "input": [
      "def get_plot_data(venmo_user, instagram_user):\n",
      "    instagram_id = instagram_user.get('id')\n",
      "    media = get_all_paginated_data(API_CYCLER.api, 'user_recent_media', user_id=instagram_id, count=100)\n",
      "    print '%d Media fetched for Instagram user %s (%s)' % (len(media), instagram_user.get('username'), instagram_user.get('id'))\n",
      "    \n",
      "    venmo_id = venmo_user.get('id')\n",
      "    venmo_trans = venmo_user_trans(venmo_id)    \n",
      "    print '%d Transactions fetched for Venmo user %s (%s)' % (len(venmo_trans), venmo_user.get('username'), venmo_user.get('id'))\n",
      "        \n",
      "    venmo_trans_datetimes = get_venmo_trans_datetimes(venmo_trans)\n",
      "    instagram_datetimes = get_instagram_datetimes(media)\n",
      "    \n",
      "    # Group media and transactions activity across individual days\n",
      "    venmo_date_data = group_by_date(venmo_trans_datetimes, AFTER_CUTOFF_DATE)\n",
      "    instagram_date_data = group_by_date(instagram_datetimes, AFTER_CUTOFF_DATE)\n",
      "    \n",
      "    full_date_set = set(instagram_date_data.keys()).union(venmo_date_data.keys())\n",
      "    venmo_date_data_norm = normalize_date_data(venmo_date_data, full_date_set)\n",
      "    instagram_date_data_norm = normalize_date_data(instagram_date_data, full_date_set)\n",
      "    \n",
      "    x = venmo_date_data_norm.keys()\n",
      "    venmo_y = [venmo_date_data_norm[date] for date in venmo_date_data_norm.keys()]\n",
      "    instagram_y = [instagram_date_data_norm[date] for date in instagram_date_data_norm.keys()]\n",
      "    \n",
      "    return x, venmo_y, instagram_y"
     ],
     "language": "python",
     "metadata": {},
     "outputs": [],
     "prompt_number": 7
    },
    {
     "cell_type": "markdown",
     "metadata": {},
     "source": [
      "## Plot one user's Venmo and Instagram activity"
     ]
    },
    {
     "cell_type": "code",
     "collapsed": false,
     "input": [
      "width = 0.35\n",
      "days = mdates.DayLocator()\n",
      "weeks = mdates.WeekdayLocator()\n",
      "yearsFmt = mdates.DateFormatter('%Y')\n",
      "date_fmt = mdates.DateFormatter('%d %b %Y')\n",
      "\n",
      "def plot_user_data(venmo_user, instagram_user, fig_num):\n",
      "    x, venmo_y, instagram_y = get_plot_data(venmo_user, instagram_user)\n",
      "    \n",
      "    \n",
      "    figure, ax = plt.subplots(figsize=(18, 4), num=fig_num)\n",
      "    p1 = ax.bar(mdates.date2num(x), instagram_y, color='#ED913D', width=width, linewidth=0)\n",
      "    p2 = ax.bar(mdates.date2num(x), venmo_y, color='#78b653', width=width, linewidth=0, bottom=instagram_y)\n",
      "    \n",
      "    # Formatting\n",
      "    ax.xaxis.set_major_locator(days)\n",
      "    ax.xaxis.set_major_formatter(date_fmt)\n",
      "    ax.legend( (p1[0], p2[0]), ('Instagram', 'Venmo') )\n",
      "    ax.set_ylabel('Activity')\n",
      "    ax.set_xlabel('Dates')\n",
      "\n",
      "    title_str = 'Venmo user %s (%s) | Instagram user %s (%s)' % (\n",
      "        venmo_user.get('username'), venmo_user.get('id'),\n",
      "        instagram_user.get('username'), instagram_user.get('id'),\n",
      "    )\n",
      "    ax.set_title(title_str)\n",
      "    filename = '%s.png' % venmo_user.get('username')\n",
      "    plt.savefig(filename)\n",
      "    plt.show()"
     ],
     "language": "python",
     "metadata": {},
     "outputs": []
    },
    {
     "cell_type": "markdown",
     "metadata": {},
     "source": [
      "## Main loop"
     ]
    },
    {
     "cell_type": "code",
     "collapsed": false,
     "input": [
      "for i, user_pair in enumerate(user_matches):\n",
      "    instagram_user = user_pair.get('instagram')\n",
      "    venmo_user = user_pair.get('venmo')    \n",
      "    plot_user_data(venmo_user, instagram_user, i)   \n"
     ],
     "language": "python",
     "metadata": {},
     "outputs": [
      {
       "output_type": "stream",
       "stream": "stdout",
       "text": [
        "244 Media fetched for Instagram user ibotta (1235351878)\n",
        "2113 Transactions fetched for Venmo user ibotta (820531)"
       ]
      },
      {
       "output_type": "stream",
       "stream": "stdout",
       "text": [
        "\n"
       ]
      },
      {
       "metadata": {},
       "output_type": "display_data",
       "png": "[encoded data removed]",
       "text": [
        "<matplotlib.figure.Figure at 0x7f40949a7150>"
       ]
      },
      {
       "output_type": "stream",
       "stream": "stdout",
       "text": [
        "250 Media fetched for Instagram user alliekranick (10676783)\n",
        "15 Transactions fetched for Venmo user alliekranick (1059179)"
       ]
      },
      {
       "output_type": "stream",
       "stream": "stdout",
       "text": [
        "\n"
       ]
      },
      {
       "metadata": {},
       "output_type": "display_data",
       "png": "[encoded data removed]",
       "text": [
        "<matplotlib.figure.Figure at 0x7f4094d39710>"
       ]
      }
     ]
    }
   ],
   "metadata": {}
  }
 ]
}